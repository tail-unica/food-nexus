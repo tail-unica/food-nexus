{
 "cells": [
  {
   "cell_type": "markdown",
   "metadata": {},
   "source": [
    "# salvo righe intere di hummus e off"
   ]
  },
  {
   "cell_type": "code",
   "execution_count": null,
   "metadata": {},
   "outputs": [],
   "source": [
    "from analisys_and_file_creation_script import estrai_righe\n",
    "\n",
    "input_file = '../csv_file/pp_recipes.csv'  \n",
    "output_file = '../csv_file/pp_recipes_righe.csv'\n",
    "estrai_righe(input_file, output_file, righe=100)\n",
    "\n",
    "input_file = '../csv_file/pp_members.csv' \n",
    "output_file = '../csv_file/pp_members_righe.csv'  \n",
    "estrai_righe(input_file, output_file, righe=100)\n",
    "\n",
    "input_file = '../csv_file/pp_reviews.csv' \n",
    "output_file = '../csv_file/pp_reviews_righe.csv' \n",
    "estrai_righe(input_file, output_file, righe=100)\n",
    "\n",
    "input_file = '../csv_file/en.openfoodfacts.org.products.csv' \n",
    "output_file = '../csv_file/off_righe.csv' \n",
    "estrai_righe(input_file, output_file, righe=100, delimiter='\\t')"
   ]
  },
  {
   "cell_type": "markdown",
   "metadata": {},
   "source": [
    "# salvo ricette da hummus e off"
   ]
  },
  {
   "cell_type": "code",
   "execution_count": null,
   "metadata": {},
   "outputs": [],
   "source": [
    "from analisys_and_file_creation_script import estrai_ricette\n",
    "\n",
    "input_file = '../csv_file/pp_recipes.csv' \n",
    "output_file = '../csv_file/hummus_ricette.csv' \n",
    "estrai_ricette(input_file, output_file, nome_colonna=\"title\", righe=100)\n",
    "\n",
    "input_file = '../csv_file/en.openfoodfacts.org.products.csv'  \n",
    "output_file = '../csv_file/off_ricette.csv' \n",
    "estrai_ricette(input_file, output_file, nome_colonna=\"product_name\", righe=100, delimitatore1='\\t', delimitatore2=' ')"
   ]
  },
  {
   "cell_type": "markdown",
   "metadata": {},
   "source": [
    "# salvataggio lista ingredienti di foodKg"
   ]
  },
  {
   "cell_type": "code",
   "execution_count": null,
   "metadata": {},
   "outputs": [],
   "source": [
    "from analisys_and_file_creation_script import estrai_ingredienti_foodkg\n",
    "\n",
    "input_file = \"../csv_file/pp_recipes.csv\"\n",
    "output_file = \"../csv_file/ingredienti_food_kg.csv\"\n",
    "estrai_ingredienti_foodkg(input_file=input_file, output_file=output_file, min_occurrences=0)"
   ]
  },
  {
   "cell_type": "markdown",
   "metadata": {},
   "source": [
    "# salvataggio elenco aggettivi unici FoodKg"
   ]
  },
  {
   "cell_type": "code",
   "execution_count": null,
   "metadata": {},
   "outputs": [],
   "source": [
    "from analisys_and_file_creation_script import estrai_aggettivi_foodkg\n",
    "\n",
    "input_file = '../csv_file/ingredienti_food_kg.csv'  \n",
    "output_file = '../csv_file/aggettivi_FoodKg.csv'\n",
    "estrai_aggettivi_foodkg(input_file=input_file, output_file=output_file, text_column='ingredient')"
   ]
  },
  {
   "cell_type": "markdown",
   "metadata": {},
   "source": [
    "# estrae lista tag hummus con frequenze associate"
   ]
  },
  {
   "cell_type": "code",
   "execution_count": null,
   "metadata": {},
   "outputs": [],
   "source": [
    "from analisys_and_file_creation_script import estrai_tag_unici\n",
    "\n",
    "estrai_tag_unici('../csv_file/pp_recipes.csv', '../csv_file/tag_hummus_frequenza.csv')"
   ]
  },
  {
   "cell_type": "markdown",
   "metadata": {},
   "source": [
    "# Filtraggio brand con performance"
   ]
  },
  {
   "cell_type": "markdown",
   "metadata": {},
   "source": [
    "dichiaro il modello per il filtraggio dei brand"
   ]
  },
  {
   "cell_type": "code",
   "execution_count": null,
   "metadata": {},
   "outputs": [],
   "source": [
    "from analisys_and_file_creation_script import crea_food_expert\n",
    "\n",
    "crea_food_expert()"
   ]
  },
  {
   "cell_type": "markdown",
   "metadata": {},
   "source": [
    "testo il modello su un dataset etichettato a mano"
   ]
  },
  {
   "cell_type": "code",
   "execution_count": null,
   "metadata": {},
   "outputs": [],
   "source": [
    "from analisys_and_file_creation_script import testa_accuratezza_filtraggio_brand\n",
    "\n",
    "file1 = \"../csv_file/brands.csv\"\n",
    "file = \"../csv_file/brand_prova.csv\"\n",
    "testa_accuratezza_filtraggio_brand(file1, file)"
   ]
  },
  {
   "cell_type": "markdown",
   "metadata": {},
   "source": [
    "# analisi numero di cibi non considerati eliminando i brand che appaiono meno di n volte"
   ]
  },
  {
   "cell_type": "code",
   "execution_count": null,
   "metadata": {},
   "outputs": [],
   "source": [
    "from analisys_and_file_creation_script import count_products_by_brand_threshold\n",
    "\n",
    "csv_file = \"../csv_file/en.openfoodfacts.org.products.csv\"\n",
    "count_products_by_brand_threshold(csv_file, range(2, 10))"
   ]
  },
  {
   "cell_type": "markdown",
   "metadata": {},
   "source": [
    "# salvo brand che appaiono più di n volte\n"
   ]
  },
  {
   "cell_type": "code",
   "execution_count": null,
   "metadata": {},
   "outputs": [],
   "source": [
    "from analisys_and_file_creation_script import extract_clean_brands\n",
    "\n",
    "input_file = \"../csv_file/en.openfoodfacts.org.products.csv\"\n",
    "output_file = \"../csv_file/brands.csv\"\n",
    "extract_clean_brands(input_file=input_file, output_file=output_file, n=5)\n"
   ]
  },
  {
   "cell_type": "markdown",
   "metadata": {},
   "source": [
    "# filtro i brand con l'LLM"
   ]
  },
  {
   "cell_type": "markdown",
   "metadata": {},
   "source": [
    "pulisco il file dei brand creandone uno pulito senza brand corrispondenti a nomi di cibi"
   ]
  },
  {
   "cell_type": "code",
   "execution_count": null,
   "metadata": {},
   "outputs": [],
   "source": [
    "from analisys_and_file_creation_script import pulitura_brand\n",
    "\n",
    "file = \"../csv_file/brands.csv\"\n",
    "output_file = \"../csv_file/brands_filtered.csv\"\n",
    "pulitura_brand(file, output_file)"
   ]
  },
  {
   "cell_type": "markdown",
   "metadata": {},
   "source": [
    "### Analisi numero di istanze per ogni colonna di off"
   ]
  },
  {
   "cell_type": "code",
   "execution_count": null,
   "metadata": {},
   "outputs": [],
   "source": [
    "from analisys_and_file_creation_script import analisi_numero_istanze_per_colonna\n",
    "\n",
    "input_file = \"../csv_file/en.openfoodfacts.org.products.csv\"\n",
    "output_file = \"../csv_file/column_analysis.csv\"\n",
    "chunk_size = 120000\n",
    "analisi_numero_istanze_per_colonna(input_file, output_file, chunk_size)"
   ]
  },
  {
   "cell_type": "markdown",
   "metadata": {},
   "source": [
    "# Modello per estrarre informazioni sugli utenti da la User Description"
   ]
  },
  {
   "cell_type": "markdown",
   "metadata": {},
   "source": [
    "salvo in un file tutte le descrizioni"
   ]
  },
  {
   "cell_type": "code",
   "execution_count": null,
   "metadata": {},
   "outputs": [],
   "source": [
    "from analisys_and_file_creation_script import estrai_descrizione\n",
    "\n",
    "input_file = '../csv_file/pp_members.csv' \n",
    "output_file = '../csv_file/descrizioni_utenti.csv' \n",
    "estrai_descrizione(input_file, output_file, nome_colonna=\"member_description\", righe=100)"
   ]
  },
  {
   "cell_type": "markdown",
   "metadata": {},
   "source": [
    "creo il modello che estrae le informazioni"
   ]
  },
  {
   "cell_type": "code",
   "execution_count": null,
   "metadata": {},
   "outputs": [],
   "source": [
    "from analisys_and_file_creation_script import crea_estrattore_member_description\n",
    "\n",
    "crea_estrattore_member_description()"
   ]
  },
  {
   "cell_type": "markdown",
   "metadata": {},
   "source": [
    "estraggo i valori degli attributi usando il LLM"
   ]
  },
  {
   "cell_type": "code",
   "execution_count": null,
   "metadata": {},
   "outputs": [],
   "source": [
    "from analisys_and_file_creation_script import testa_estrazione_attributi_utenti\n",
    "\n",
    "file_prova = '../csv_file/descrizioni_utenti.csv'\n",
    "testa_estrazione_attributi_utenti(file_prova)"
   ]
  },
  {
   "cell_type": "markdown",
   "metadata": {},
   "source": [
    "# analisi attributo quantities di open food facts\n"
   ]
  },
  {
   "cell_type": "code",
   "execution_count": null,
   "metadata": {},
   "outputs": [],
   "source": [
    "from analisys_and_file_creation_script import analisi_quantities\n",
    "\n",
    "input_file = \"../csv_file/en.openfoodfacts.org.products.csv\"\n",
    "output_file = \"../csv_file/quantities.csv\"\n",
    "analisi_quantities(input_file, output_file,n=5)"
   ]
  }
 ],
 "metadata": {
  "kernelspec": {
   "display_name": "kambinete",
   "language": "python",
   "name": "python3"
  },
  "language_info": {
   "codemirror_mode": {
    "name": "ipython",
    "version": 3
   },
   "file_extension": ".py",
   "mimetype": "text/x-python",
   "name": "python",
   "nbconvert_exporter": "python",
   "pygments_lexer": "ipython3",
   "version": "3.10.13"
  }
 },
 "nbformat": 4,
 "nbformat_minor": 2
}
