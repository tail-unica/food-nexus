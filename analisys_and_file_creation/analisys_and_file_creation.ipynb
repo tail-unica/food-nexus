{
 "cells": [
  {
   "cell_type": "markdown",
   "metadata": {},
   "source": [
    "# save rows from hummus and open food facts  "
   ]
  },
  {
   "cell_type": "code",
   "execution_count": null,
   "metadata": {},
   "outputs": [],
   "source": [
    "from analisys_and_file_creation_script import extract_rows\n",
    "\n",
    "input_file = '../csv_file/pp_recipes.csv'  \n",
    "output_file = '../csv_file/pp_recipes_rows.csv'\n",
    "extract_rows(input_file, output_file, rows=100)\n",
    "\n",
    "input_file = '../csv_file/pp_members.csv' \n",
    "output_file = '../csv_file/pp_members_rows.csv'  \n",
    "extract_rows(input_file, output_file, rows=100)\n",
    "\n",
    "input_file = '../csv_file/pp_reviews.csv' \n",
    "output_file = '../csv_file/pp_reviews_rows.csv' \n",
    "extract_rows(input_file, output_file, rows=100)\n",
    "\n",
    "input_file = '../csv_file/en.openfoodfacts.org.products.csv' \n",
    "output_file = '../csv_file/off_rows.csv' \n",
    "extract_rows(input_file, output_file, rows=100, delimiter='\\t')"
   ]
  },
  {
   "cell_type": "markdown",
   "metadata": {},
   "source": [
    "# save recipe from hummus and open food facts"
   ]
  },
  {
   "cell_type": "code",
   "execution_count": null,
   "metadata": {},
   "outputs": [],
   "source": [
    "from analisys_and_file_creation_script import extract_recipes\n",
    "\n",
    "input_file = '../csv_file/pp_recipes.csv' \n",
    "output_file = '../csv_file/hummus_ricette.csv' \n",
    "extract_recipes(input_file, output_file, column_name=\"title\", rows=100)\n",
    "\n",
    "input_file = '../csv_file/en.openfoodfacts.org.products.csv'  \n",
    "output_file = '../csv_file/off_ricette.csv' \n",
    "extract_recipes(input_file, output_file, column_name=\"product_name\", rows=100, delimiter1='\\t', delimiter2=' ')"
   ]
  },
  {
   "cell_type": "markdown",
   "metadata": {},
   "source": [
    "# save ingredients from foodKg"
   ]
  },
  {
   "cell_type": "code",
   "execution_count": null,
   "metadata": {},
   "outputs": [],
   "source": [
    "from analisys_and_file_creation_script import extract_ingredients_foodkg\n",
    "\n",
    "input_file = \"../csv_file/pp_recipes.csv\"\n",
    "output_file = \"../csv_file/ingredienti_food_kg.csv\"\n",
    "extract_ingredients_foodkg(input_file=input_file, output_file=output_file, min_occurrences=0)"
   ]
  },
  {
   "cell_type": "markdown",
   "metadata": {},
   "source": [
    "# save adjectives from FoodKG"
   ]
  },
  {
   "cell_type": "code",
   "execution_count": null,
   "metadata": {},
   "outputs": [],
   "source": [
    "from analisys_and_file_creation_script import extract_adjectives_foodkg\n",
    "\n",
    "input_file = '../csv_file/ingredienti_food_kg.csv'  \n",
    "output_file = '../csv_file/aggettivi_FoodKg.csv'\n",
    "extract_adjectives_foodkg(input_file=input_file, output_file=output_file, text_column='ingredient')"
   ]
  },
  {
   "cell_type": "markdown",
   "metadata": {},
   "source": [
    "# estrae lista tag hummus con frequenze associate"
   ]
  },
  {
   "cell_type": "code",
   "execution_count": null,
   "metadata": {},
   "outputs": [],
   "source": [
    "from analisys_and_file_creation_script import extract_tags_unique\n",
    "\n",
    "extract_tags_unique('../csv_file/pp_recipes.csv', '../csv_file/tag_hummus_frequenza.csv')"
   ]
  },
  {
   "cell_type": "markdown",
   "metadata": {},
   "source": [
    "# Brand filtering"
   ]
  },
  {
   "cell_type": "markdown",
   "metadata": {},
   "source": [
    "dichiaro il modello per il filtraggio dei brand"
   ]
  },
  {
   "cell_type": "code",
   "execution_count": null,
   "metadata": {},
   "outputs": [],
   "source": [
    "from analisys_and_file_creation_script import create_food_expert\n",
    "\n",
    "create_food_expert()"
   ]
  },
  {
   "cell_type": "markdown",
   "metadata": {},
   "source": [
    "testo il modello su un dataset etichettato a mano"
   ]
  },
  {
   "cell_type": "code",
   "execution_count": null,
   "metadata": {},
   "outputs": [],
   "source": [
    "from analisys_and_file_creation_script import test_filtering_brand_accuracy\n",
    "\n",
    "file1 = \"../csv_file/brands.csv\"\n",
    "file = \"../csv_file/brand_prova.csv\"\n",
    "test_filtering_brand_accuracy(file1, file)"
   ]
  },
  {
   "cell_type": "markdown",
   "metadata": {},
   "source": [
    "# analisys brand threshold"
   ]
  },
  {
   "cell_type": "code",
   "execution_count": null,
   "metadata": {},
   "outputs": [],
   "source": [
    "from analisys_and_file_creation_script import count_products_by_brand_threshold\n",
    "\n",
    "csv_file = \"../csv_file/en.openfoodfacts.org.products.csv\"\n",
    "count_products_by_brand_threshold(csv_file, range(2, 10))"
   ]
  },
  {
   "cell_type": "markdown",
   "metadata": {},
   "source": [
    "# save brand that appear more than n times\n"
   ]
  },
  {
   "cell_type": "code",
   "execution_count": null,
   "metadata": {},
   "outputs": [],
   "source": [
    "from analisys_and_file_creation_script import extract_clean_brands\n",
    "\n",
    "input_file = \"../csv_file/en.openfoodfacts.org.products.csv\"\n",
    "output_file = \"../csv_file/brands.csv\"\n",
    "extract_clean_brands(input_file=input_file, output_file=output_file, n=5)"
   ]
  },
  {
   "cell_type": "markdown",
   "metadata": {},
   "source": [
    "# Brand filtering with the food expert model"
   ]
  },
  {
   "cell_type": "markdown",
   "metadata": {},
   "source": [
    "clean the brand file from food names and save it as a new file"
   ]
  },
  {
   "cell_type": "code",
   "execution_count": null,
   "metadata": {},
   "outputs": [
    {
     "name": "stdout",
     "output_type": "stream",
     "text": [
      "\n",
      "Generato il file ../csv_file/brands_filtered.csv\n"
     ]
    }
   ],
   "source": [
    "from analisys_and_file_creation_script import brand_filtering\n",
    "\n",
    "file = \"../csv_file/brands.csv\"\n",
    "output_file = \"../csv_file/brands_filtered.csv\"\n",
    "brand_filtering(file, output_file)"
   ]
  },
  {
   "cell_type": "markdown",
   "metadata": {},
   "source": [
    "### Analisi numero di istanze per ogni colonna di off"
   ]
  },
  {
   "cell_type": "code",
   "execution_count": null,
   "metadata": {},
   "outputs": [],
   "source": [
    "from analisys_and_file_creation_script import number_of_instance_for_columns\n",
    "\n",
    "input_file = \"../csv_file/en.openfoodfacts.org.products.csv\"\n",
    "output_file = \"../csv_file/column_analysis.csv\"\n",
    "chunk_size = 120000\n",
    "number_of_instance_for_columns(input_file, output_file, chunk_size)"
   ]
  },
  {
   "cell_type": "markdown",
   "metadata": {},
   "source": [
    "# Model for extract info from User Description"
   ]
  },
  {
   "cell_type": "markdown",
   "metadata": {},
   "source": [
    "salvo in un file tutte le descrizioni"
   ]
  },
  {
   "cell_type": "code",
   "execution_count": null,
   "metadata": {},
   "outputs": [],
   "source": [
    "from analisys_and_file_creation_script import extract_description\n",
    "\n",
    "input_file = '../csv_file/pp_members.csv' \n",
    "output_file = '../csv_file/descrizioni_utenti.csv' \n",
    "extract_description(input_file, output_file, column_name=\"member_description\", rows=100)"
   ]
  },
  {
   "cell_type": "markdown",
   "metadata": {},
   "source": [
    "creo il modello che estrae le informazioni"
   ]
  },
  {
   "cell_type": "code",
   "execution_count": null,
   "metadata": {},
   "outputs": [],
   "source": [
    "from analisys_and_file_creation_script import create_attribute_extractor\n",
    "\n",
    "create_attribute_extractor()"
   ]
  },
  {
   "cell_type": "markdown",
   "metadata": {},
   "source": [
    "estraggo i valori degli attributi usando il LLM"
   ]
  },
  {
   "cell_type": "code",
   "execution_count": null,
   "metadata": {},
   "outputs": [],
   "source": [
    "from analisys_and_file_creation_script import test_attribute_extraction\n",
    "\n",
    "file = '../csv_file/descrizioni_utenti.csv'\n",
    "test_attribute_extraction(file)"
   ]
  },
  {
   "cell_type": "markdown",
   "metadata": {},
   "source": [
    "# analisi attributo quantities di open food facts\n"
   ]
  },
  {
   "cell_type": "code",
   "execution_count": null,
   "metadata": {},
   "outputs": [],
   "source": [
    "from analisys_and_file_creation_script import analisi_quantities\n",
    "\n",
    "input_file = \"../csv_file/en.openfoodfacts.org.products.csv\"\n",
    "output_file = \"../csv_file/quantities.csv\"\n",
    "analisi_quantities(input_file, output_file,n=5)"
   ]
  }
 ],
 "metadata": {
  "kernelspec": {
   "display_name": "kambinete",
   "language": "python",
   "name": "python3"
  },
  "language_info": {
   "codemirror_mode": {
    "name": "ipython",
    "version": 3
   },
   "file_extension": ".py",
   "mimetype": "text/x-python",
   "name": "python",
   "nbconvert_exporter": "python",
   "pygments_lexer": "ipython3",
   "version": "3.10.13"
  }
 },
 "nbformat": 4,
 "nbformat_minor": 2
}
