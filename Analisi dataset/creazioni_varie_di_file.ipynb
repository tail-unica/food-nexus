{
 "cells": [
  {
   "cell_type": "markdown",
   "metadata": {},
   "source": [
    "# salvo righe intere di hummus e off"
   ]
  },
  {
   "cell_type": "code",
   "execution_count": 1,
   "metadata": {},
   "outputs": [],
   "source": [
    "from creazioni_varie_di_file_script import estrai_righe\n",
    "\n",
    "input_file = '../File_CSV/pp_recipes.csv'  \n",
    "output_file = '../File_CSV/pp_recipes_righe.csv'\n",
    "estrai_righe(input_file, output_file, righe=100)\n",
    "\n",
    "input_file = '../File_CSV/pp_members.csv' \n",
    "output_file = '../File_CSV/pp_members_righe.csv'  \n",
    "estrai_righe(input_file, output_file, righe=100)\n",
    "\n",
    "input_file = '../File_CSV/pp_reviews.csv' \n",
    "output_file = '../File_CSV/pp_reviews_righe.csv' \n",
    "estrai_righe(input_file, output_file, righe=100)\n",
    "\n",
    "input_file = '../File_CSV/en.openfoodfacts.org.products.csv' \n",
    "output_file = '../File_CSV/off_righe.csv' \n",
    "estrai_righe(input_file, output_file, righe=100, delimiter='\\t')"
   ]
  },
  {
   "cell_type": "markdown",
   "metadata": {},
   "source": [
    "# salvo ricette da hummus e off"
   ]
  },
  {
   "cell_type": "code",
   "execution_count": 2,
   "metadata": {},
   "outputs": [],
   "source": [
    "from creazioni_varie_di_file_script import estrai_ricette\n",
    "\n",
    "input_file = '../File_CSV/pp_recipes.csv' \n",
    "output_file = '../File_CSV/hummus_ricette.csv' \n",
    "estrai_ricette(input_file, output_file, nome_colonna=\"title\", righe=100)\n",
    "\n",
    "input_file = '../File_CSV/en.openfoodfacts.org.products.csv'  \n",
    "output_file = '../File_CSV/off_ricette.csv' \n",
    "estrai_ricette(input_file, output_file, nome_colonna=\"product_name\", righe=100, delimitatore1='\\t', delimitatore2=' ')"
   ]
  },
  {
   "cell_type": "markdown",
   "metadata": {},
   "source": [
    "# salvataggio lista ingredienti di foodKg"
   ]
  },
  {
   "cell_type": "code",
   "execution_count": 3,
   "metadata": {},
   "outputs": [
    {
     "name": "stdout",
     "output_type": "stream",
     "text": [
      "File ../File_CSV/ingredienti_food_kg.csv creato con 17312 ingredienti unici e 3826170 occorrenze totali.\n"
     ]
    }
   ],
   "source": [
    "from creazioni_varie_di_file_script import estrai_ingredienti_foodkg\n",
    "\n",
    "input_file = \"../File_CSV/pp_recipes.csv\"\n",
    "output_file = \"../File_CSV/ingredienti_food_kg.csv\"\n",
    "estrai_ingredienti_foodkg(input_file=input_file, output_file=output_file, min_occurrences=0)"
   ]
  },
  {
   "cell_type": "markdown",
   "metadata": {},
   "source": [
    "# salvataggio elenco aggettivi unici FoodKg"
   ]
  },
  {
   "cell_type": "code",
   "execution_count": null,
   "metadata": {},
   "outputs": [
    {
     "name": "stdout",
     "output_type": "stream",
     "text": [
      "File ../File_CSV/aggettivi_FoodKg.csv creato con 745 aggettivi unici.\n"
     ]
    }
   ],
   "source": [
    "from creazioni_varie_di_file_script import estrai_aggettivi_foodkg\n",
    "\n",
    "input_file = '../File_CSV/ingredienti_food_kg.csv'  \n",
    "output_file = '../File_CSV/aggettivi_FoodKg.csv'\n",
    "estrai_aggettivi_foodkg(input_file=input_file, output_file=output_file, text_column='ingredient')"
   ]
  },
  {
   "cell_type": "markdown",
   "metadata": {},
   "source": [
    "# estrae lista tag hummus con frequenze associate"
   ]
  },
  {
   "cell_type": "code",
   "execution_count": 4,
   "metadata": {},
   "outputs": [],
   "source": [
    "from creazioni_varie_di_file_script import estrai_tag_unici\n",
    "\n",
    "estrai_tag_unici('../File_CSV/pp_recipes.csv', '../File_CSV/tag_hummus_frequenza.csv')"
   ]
  },
  {
   "cell_type": "markdown",
   "metadata": {},
   "source": [
    "# Filtraggio brand con performance"
   ]
  },
  {
   "cell_type": "markdown",
   "metadata": {},
   "source": [
    "dichiaro il modello per il filtraggio dei brand"
   ]
  },
  {
   "cell_type": "code",
   "execution_count": 5,
   "metadata": {},
   "outputs": [],
   "source": [
    "from creazioni_varie_di_file_script import crea_food_expert\n",
    "\n",
    "crea_food_expert()"
   ]
  },
  {
   "cell_type": "markdown",
   "metadata": {},
   "source": [
    "testo il modello su un dataset etichettato a mano"
   ]
  },
  {
   "cell_type": "code",
   "execution_count": null,
   "metadata": {},
   "outputs": [
    {
     "name": "stdout",
     "output_type": "stream",
     "text": [
      "Brand: pasta, Model Response: food, Expected Response: food, Correct: True\n",
      "Brand: mela, Model Response: food, Expected Response: food, Correct: True\n",
      "Brand: tonno, Model Response: food, Expected Response: food, Correct: True\n",
      "Brand: Nestlé, Model Response: notfood, Expected Response: notfood, Correct: True\n",
      "Brand: Barilla, Model Response: notfood, Expected Response: notfood, Correct: True\n",
      "Brand: Nutella, Model Response: notfood, Expected Response: notfood, Correct: True\n",
      "Brand: tuna, Model Response: food, Expected Response: food, Correct: True\n",
      "Brand: delicious food, Model Response: notfood, Expected Response: notfood, Correct: True\n",
      "Brand: gâteau, Model Response: food, Expected Response: food, Correct: True\n",
      "Brand: hamburger, Model Response: food, Expected Response: food, Correct: True\n",
      "Brand: alimento, Model Response: food, Expected Response: notfood, Correct: False\n",
      "Brand: saudável, Model Response: notfood, Expected Response: notfood, Correct: True\n",
      "Brand: delicatesse, Model Response: notfood, Expected Response: notfood, Correct: True\n",
      "Brand: 1001 Delights, Model Response: notfood, Expected Response: notfood, Correct: True\n",
      "Brand: frutta, Model Response: food, Expected Response: food, Correct: True\n",
      "Brand: foood, Model Response: notfood, Expected Response: notfood, Correct: True\n",
      "Brand: tortilla, Model Response: food, Expected Response: food, Correct: True\n",
      "Brand: pancake, Model Response: food, Expected Response: food, Correct: True\n",
      "Brand: 1debeste, Model Response: notfood, Expected Response: notfood, Correct: True\n",
      "Brand: 365 Whole Foods Market, Model Response: notfood, Expected Response: notfood, Correct: True\n",
      "Brand: bio, Model Response: notfood, Expected Response: notfood, Correct: True\n",
      "Brand: JunkFoodz, Model Response: notfood, Expected Response: notfood, Correct: True\n",
      "Brand: healthy bites, Model Response: notfood, Expected Response: notfood, Correct: True\n",
      "Brand: burrito, Model Response: food, Expected Response: food, Correct: True\n",
      "Brand: salmon, Model Response: food, Expected Response: food, Correct: True\n",
      "Brand: 200g, Model Response: notfood, Expected Response: notfood, Correct: True\n",
      "Brand: 7 Eleven, Model Response: notfood, Expected Response: notfood, Correct: True\n",
      "Brand: zucchini, Model Response: food, Expected Response: food, Correct: True\n",
      "Brand: foodie, Model Response: notfood, Expected Response: notfood, Correct: True\n",
      "Brand: yummy, Model Response: notfood, Expected Response: notfood, Correct: True\n",
      "Brand: 7 Up, Model Response: notfood, Expected Response: notfood, Correct: True\n",
      "Brand: vanilla, Model Response: food, Expected Response: food, Correct: True\n",
      "Brand: taco, Model Response: food, Expected Response: food, Correct: True\n",
      "Brand: Cheeseburger Supreme, Model Response: notfood, Expected Response: notfood, Correct: True\n",
      "Brand: almond milk, Model Response: food, Expected Response: food, Correct: True\n",
      "Brand: spaghetti, Model Response: food, Expected Response: food, Correct: True\n",
      "Brand: okonomiyaki, Model Response: food, Expected Response: food, Correct: True\n",
      "Brand: limone, Model Response: food, Expected Response: food, Correct: True\n",
      "Brand: chocolat, Model Response: food, Expected Response: food, Correct: True\n",
      "Brand: 1st Quality, Model Response: notfood, Expected Response: notfood, Correct: True\n",
      "Brand: elegant cuisine, Model Response: notfood, Expected Response: notfood, Correct: True\n",
      "Brand: pomme de terre, Model Response: food, Expected Response: food, Correct: True\n",
      "Brand: bread, Model Response: food, Expected Response: food, Correct: True\n",
      "Brand: cheesecake, Model Response: food, Expected Response: food, Correct: True\n",
      "Brand: ramen, Model Response: food, Expected Response: food, Correct: True\n",
      "Brand: escalope, Model Response: food, Expected Response: food, Correct: True\n",
      "Brand: spätzle, Model Response: food, Expected Response: food, Correct: True\n",
      "Brand: cannoli, Model Response: food, Expected Response: food, Correct: True\n",
      "Brand: tiramisu, Model Response: food, Expected Response: food, Correct: True\n",
      "Brand: biryani, Model Response: food, Expected Response: food, Correct: True\n",
      "Brand: muffin, Model Response: food, Expected Response: food, Correct: True\n",
      "Brand: tacos, Model Response: food, Expected Response: food, Correct: True\n",
      "Brand: bruschetta, Model Response: food, Expected Response: food, Correct: True\n",
      "Brand: tortellini, Model Response: food, Expected Response: food, Correct: True\n",
      "Brand: couscous, Model Response: food, Expected Response: food, Correct: True\n",
      "Brand: poutine, Model Response: food, Expected Response: food, Correct: True\n",
      "Brand: quiche, Model Response: food, Expected Response: food, Correct: True\n",
      "Brand: empanada, Model Response: food, Expected Response: food, Correct: True\n",
      "Brand: baklava, Model Response: food, Expected Response: food, Correct: True\n",
      "Brand: salame, Model Response: food, Expected Response: food, Correct: True\n",
      "Brand: pão de queijo, Model Response: food, Expected Response: food, Correct: True\n",
      "Brand: quesadilla, Model Response: food, Expected Response: food, Correct: True\n",
      "Brand: kebab, Model Response: food, Expected Response: food, Correct: True\n",
      "Brand: forbidden rice, Model Response: food, Expected Response: food, Correct: True\n",
      "Brand: croissant, Model Response: food, Expected Response: food, Correct: True\n",
      "Brand: baguette, Model Response: food, Expected Response: food, Correct: True\n",
      "Brand: guacamole, Model Response: food, Expected Response: food, Correct: True\n",
      "Brand: ravioli, Model Response: food, Expected Response: food, Correct: True\n",
      "Brand: siu mai, Model Response: food, Expected Response: food, Correct: True\n",
      "Brand: pavlova, Model Response: food, Expected Response: food, Correct: True\n",
      "Brand: cachaça, Model Response: notfood, Expected Response: food, Correct: False\n",
      "Brand: dim sum, Model Response: food, Expected Response: food, Correct: True\n",
      "Brand: kanom jeen, Model Response: food, Expected Response: food, Correct: True\n",
      "Brand: churros, Model Response: food, Expected Response: food, Correct: True\n",
      "Brand: foie gras, Model Response: food, Expected Response: food, Correct: True\n",
      "Brand: calzone, Model Response: food, Expected Response: food, Correct: True\n",
      "Brand: pasta alla norma, Model Response: notfood, Expected Response: food, Correct: False\n",
      "Brand: frikandel, Model Response: food, Expected Response: food, Correct: True\n",
      "Brand: zrazy, Model Response: notfood, Expected Response: food, Correct: False\n",
      "Brand: goulash, Model Response: food, Expected Response: food, Correct: True\n",
      "Brand: pork schnitzel, Model Response: food, Expected Response: food, Correct: True\n",
      "Brand: malai kofta, Model Response: food, Expected Response: food, Correct: True\n",
      "Brand: ratatouille, Model Response: food, Expected Response: food, Correct: True\n",
      "Brand: tandoori chicken, Model Response: food, Expected Response: food, Correct: True\n",
      "Brand: pho, Model Response: food, Expected Response: food, Correct: True\n",
      "Brand: tamarind, Model Response: food, Expected Response: food, Correct: True\n",
      "Brand: tapioca, Model Response: food, Expected Response: food, Correct: True\n",
      "Brand: melanzane, Model Response: food, Expected Response: food, Correct: True\n",
      "Brand: baba ghanoush, Model Response: food, Expected Response: food, Correct: True\n",
      "Brand: tofu, Model Response: food, Expected Response: food, Correct: True\n",
      "Brand: chili con carne, Model Response: food, Expected Response: food, Correct: True\n",
      "Brand: fettuccine, Model Response: food, Expected Response: food, Correct: True\n",
      "Brand: 7Eleven, Model Response: notfood, Expected Response: notfood, Correct: True\n",
      "Brand: 7up, Model Response: notfood, Expected Response: notfood, Correct: True\n",
      "Brand: AH, Model Response: notfood, Expected Response: notfood, Correct: True\n",
      "Brand: ALDI, Model Response: notfood, Expected Response: notfood, Correct: True\n",
      "Brand: ASDA, Model Response: notfood, Expected Response: notfood, Correct: True\n",
      "Brand: AUCHAN, Model Response: notfood, Expected Response: notfood, Correct: True\n",
      "Brand: AVogel, Model Response: notfood, Expected Response: notfood, Correct: True\n",
      "Brand: Abbott, Model Response: notfood, Expected Response: notfood, Correct: True\n",
      "Brand: Actimel, Model Response: notfood, Expected Response: notfood, Correct: True\n",
      "Brand: Action, Model Response: notfood, Expected Response: notfood, Correct: True\n",
      "Brand: Activia, Model Response: notfood, Expected Response: notfood, Correct: True\n",
      "Brand: Agidra, Model Response: notfood, Expected Response: notfood, Correct: True\n",
      "Brand: Ah, Model Response: notfood, Expected Response: notfood, Correct: True\n",
      "Brand: Ahold, Model Response: notfood, Expected Response: notfood, Correct: True\n",
      "Brand: Ajinomoto, Model Response: notfood, Expected Response: notfood, Correct: True\n",
      "Brand: Albert Heijn, Model Response: notfood, Expected Response: notfood, Correct: True\n",
      "Brand: Albert heijn, Model Response: notfood, Expected Response: notfood, Correct: True\n",
      "Brand: Alcampo, Model Response: notfood, Expected Response: notfood, Correct: True\n",
      "Brand: Alce nero, Model Response: notfood, Expected Response: notfood, Correct: True\n",
      "Brand: Aldi, Model Response: notfood, Expected Response: notfood, Correct: True\n",
      "Brand: Aldis, Model Response: notfood, Expected Response: notfood, Correct: True\n",
      "Brand: Alesto, Model Response: notfood, Expected Response: notfood, Correct: True\n",
      "Brand: Alfredo, Model Response: notfood, Expected Response: notfood, Correct: True\n",
      "Brand: Alipende, Model Response: notfood, Expected Response: notfood, Correct: True\n",
      "Brand: All Seasons, Model Response: notfood, Expected Response: notfood, Correct: True\n",
      "Brand: Almare, Model Response: notfood, Expected Response: notfood, Correct: True\n",
      "Brand: Almtaler, Model Response: notfood, Expected Response: notfood, Correct: True\n",
      "Brand: Alnatura, Model Response: notfood, Expected Response: notfood, Correct: True\n",
      "Brand: Alpina, Model Response: notfood, Expected Response: notfood, Correct: True\n",
      "Brand: Alpro, Model Response: notfood, Expected Response: notfood, Correct: True\n",
      "Brand: Alsa, Model Response: notfood, Expected Response: notfood, Correct: True\n",
      "Brand: Alter Eco, Model Response: notfood, Expected Response: notfood, Correct: True\n",
      "Brand: Alteza, Model Response: notfood, Expected Response: notfood, Correct: True\n",
      "Brand: Alvalle, Model Response: notfood, Expected Response: notfood, Correct: True\n",
      "Brand: Amazon, Model Response: notfood, Expected Response: notfood, Correct: True\n",
      "Brand: American, Model Response: notfood, Expected Response: notfood, Correct: True\n",
      "Brand: Ametller Origen, Model Response: notfood, Expected Response: notfood, Correct: True\n",
      "Brand: Amora, Model Response: notfood, Expected Response: notfood, Correct: True\n",
      "Brand: Ancel, Model Response: notfood, Expected Response: notfood, Correct: True\n",
      "Brand: Anchor, Model Response: notfood, Expected Response: notfood, Correct: True\n",
      "Brand: Andros, Model Response: notfood, Expected Response: notfood, Correct: True\n",
      "Brand: Annas Best, Model Response: notfood, Expected Response: notfood, Correct: True\n",
      "Brand: Annies, Model Response: notfood, Expected Response: notfood, Correct: True\n",
      "Brand: Aoste, Model Response: notfood, Expected Response: notfood, Correct: True\n",
      "Brand: Aptamil, Model Response: notfood, Expected Response: notfood, Correct: True\n",
      "Brand: Aquarius, Model Response: notfood, Expected Response: notfood, Correct: True\n",
      "Brand: Arcor, Model Response: notfood, Expected Response: notfood, Correct: True\n",
      "Brand: Argal, Model Response: notfood, Expected Response: notfood, Correct: True\n",
      "Brand: Arizona, Model Response: notfood, Expected Response: notfood, Correct: True\n",
      "Brand: Arkopharma, Model Response: notfood, Expected Response: notfood, Correct: True\n",
      "Brand: Arla, Model Response: notfood, Expected Response: notfood, Correct: True\n",
      "Brand: Arnotts, Model Response: notfood, Expected Response: notfood, Correct: True\n",
      "Brand: Aro, Model Response: notfood, Expected Response: notfood, Correct: True\n",
      "Brand: Artiach, Model Response: notfood, Expected Response: notfood, Correct: True\n",
      "Brand: Artisan, Model Response: notfood, Expected Response: notfood, Correct: True\n",
      "Brand: Asda, Model Response: notfood, Expected Response: notfood, Correct: True\n",
      "Brand: Asia, Model Response: notfood, Expected Response: notfood, Correct: True\n",
      "Brand: Asia Green Garden, Model Response: notfood, Expected Response: notfood, Correct: True\n",
      "Brand: Atkins, Model Response: notfood, Expected Response: notfood, Correct: True\n",
      "Brand: Atlantic, Model Response: notfood, Expected Response: notfood, Correct: True\n",
      "Brand: Auchan, Model Response: notfood, Expected Response: notfood, Correct: True\n",
      "Brand: Auchan Bio, Model Response: notfood, Expected Response: notfood, Correct: True\n",
      "Brand: Aucune, Model Response: notfood, Expected Response: notfood, Correct: True\n",
      "Brand: Aurora, Model Response: notfood, Expected Response: notfood, Correct: True\n",
      "Brand: BBQ, Model Response: notfood, Expected Response: notfood, Correct: True\n",
      "Brand: Babybel, Model Response: notfood, Expected Response: notfood, Correct: True\n",
      "Brand: Babybio, Model Response: notfood, Expected Response: notfood, Correct: True\n",
      "Brand: Baileys, Model Response: notfood, Expected Response: notfood, Correct: True\n",
      "Brand: Bakers, Model Response: notfood, Expected Response: notfood, Correct: True\n",
      "Brand: Balance, Model Response: notfood, Expected Response: notfood, Correct: True\n",
      "Brand: Balisto, Model Response: notfood, Expected Response: notfood, Correct: True\n",
      "Brand: Banania, Model Response: notfood, Expected Response: notfood, Correct: True\n",
      "Brand: Barebells, Model Response: notfood, Expected Response: notfood, Correct: True\n",
      "Brand: Baresa, Model Response: notfood, Expected Response: notfood, Correct: True\n",
      "Brand: Barilla, Model Response: notfood, Expected Response: notfood, Correct: True\n",
      "Brand: Bayer, Model Response: notfood, Expected Response: notfood, Correct: True\n",
      "Brand: Becel, Model Response: notfood, Expected Response: notfood, Correct: True\n",
      "Brand: Belbake, Model Response: notfood, Expected Response: notfood, Correct: True\n",
      "Brand: Belin, Model Response: notfood, Expected Response: notfood, Correct: True\n",
      "Brand: Bell, Model Response: notfood, Expected Response: notfood, Correct: True\n",
      "Brand: Bella, Model Response: notfood, Expected Response: notfood, Correct: True\n",
      "Brand: Bellarom, Model Response: notfood, Expected Response: notfood, Correct: True\n",
      "Brand: Belle France, Model Response: notfood, Expected Response: notfood, Correct: True\n",
      "Brand: Bells, Model Response: notfood, Expected Response: notfood, Correct: True\n",
      "Brand: Belmont, Model Response: notfood, Expected Response: notfood, Correct: True\n",
      "Brand: Belvita, Model Response: notfood, Expected Response: notfood, Correct: True\n",
      "Brand: Ben  Jerrys, Model Response: notfood, Expected Response: notfood, Correct: True\n",
      "Brand: Bens, Model Response: notfood, Expected Response: notfood, Correct: True\n",
      "Brand: Bens Original, Model Response: notfood, Expected Response: notfood, Correct: True\n",
      "Brand: Bens original, Model Response: notfood, Expected Response: notfood, Correct: True\n",
      "Brand: Beretta, Model Response: notfood, Expected Response: notfood, Correct: True\n",
      "Brand: Berida, Model Response: notfood, Expected Response: notfood, Correct: True\n",
      "Brand: Bertolli, Model Response: notfood, Expected Response: notfood, Correct: True\n",
      "Brand: Best Moments, Model Response: notfood, Expected Response: notfood, Correct: True\n",
      "Brand: Betty Bossi, Model Response: notfood, Expected Response: notfood, Correct: True\n",
      "Brand: Betty Crocker, Model Response: notfood, Expected Response: notfood, Correct: True\n",
      "Brand: Beyond Meat, Model Response: notfood, Expected Response: notfood, Correct: True\n",
      "Brand: Bibigo, Model Response: notfood, Expected Response: notfood, Correct: True\n",
      "Brand: Bicentury, Model Response: notfood, Expected Response: notfood, Correct: True\n",
      "Brand: Biedronka, Model Response: notfood, Expected Response: notfood, Correct: True\n",
      "Brand: Bijou, Model Response: notfood, Expected Response: notfood, Correct: True\n",
      "Brand: Billa, Model Response: notfood, Expected Response: notfood, Correct: True\n",
      "Brand: Bimbo, Model Response: notfood, Expected Response: notfood, Correct: True\n",
      "Brand: Bio, Model Response: notfood, Expected Response: notfood, Correct: True\n",
      "Brand: Bio Organic, Model Response: notfood, Expected Response: notfood, Correct: True\n",
      "Brand: Bio Village, Model Response: notfood, Expected Response: notfood, Correct: True\n",
      "Brand: Bio VillageMarque Rep��re, Model Response: notfood, Expected Response: notfood, Correct: True\n",
      "Brand: Bio village, Model Response: notfood, Expected Response: notfood, Correct: True\n",
      "Brand: BioBio, Model Response: notfood, Expected Response: notfood, Correct: True\n",
      "Brand: Biocoop, Model Response: notfood, Expected Response: notfood, Correct: True\n",
      "Brand: Bioland, Model Response: notfood, Expected Response: notfood, Correct: True\n",
      "Brand: Birds Eye, Model Response: notfood, Expected Response: notfood, Correct: True\n",
      "Brand: Biscotto, Model Response: notfood, Expected Response: food, Correct: False\n",
      "Brand: Bjorg, Model Response: notfood, Expected Response: notfood, Correct: True\n",
      "Brand: Blini, Model Response: food, Expected Response: food, Correct: True\n",
      "Brand: Bl��dina, Model Response: notfood, Expected Response: notfood, Correct: True\n",
      "Brand: Boars Head, Model Response: notfood, Expected Response: notfood, Correct: True\n",
      "Brand: Boars head, Model Response: notfood, Expected Response: notfood, Correct: True\n",
      "Brand: Bobs Red Mill, Model Response: notfood, Expected Response: notfood, Correct: True\n",
      "Brand: Bofrost, Model Response: notfood, Expected Response: notfood, Correct: True\n",
      "Brand: BonArea, Model Response: notfood, Expected Response: notfood, Correct: True\n",
      "Brand: Bonarea, Model Response: notfood, Expected Response: notfood, Correct: True\n",
      "Brand: Bonduelle, Model Response: notfood, Expected Response: notfood, Correct: True\n",
      "Brand: Boni, Model Response: notfood, Expected Response: notfood, Correct: True\n",
      "Brand: Bonne Maman, Model Response: notfood, Expected Response: notfood, Correct: True\n",
      "Brand: Bonne maman, Model Response: notfood, Expected Response: notfood, Correct: True\n",
      "Brand: Bonneterre, Model Response: notfood, Expected Response: notfood, Correct: True\n",
      "Brand: Bonpreu, Model Response: notfood, Expected Response: notfood, Correct: True\n",
      "Brand: Bon��rea, Model Response: notfood, Expected Response: notfood, Correct: True\n",
      "Brand: Bordeaux, Model Response: notfood, Expected Response: notfood, Correct: True\n",
      "Brand: Boursin, Model Response: notfood, Expected Response: notfood, Correct: True\n",
      "Brand: Bouton dOr, Model Response: notfood, Expected Response: notfood, Correct: True\n",
      "Brand: Bouton dor, Model Response: notfood, Expected Response: notfood, Correct: True\n",
      "Brand: Bravo, Model Response: notfood, Expected Response: notfood, Correct: True\n",
      "Brand: Brets, Model Response: notfood, Expected Response: notfood, Correct: True\n",
      "Brand: Briau, Model Response: notfood, Expected Response: notfood, Correct: True\n",
      "Brand: Brid��lice, Model Response: notfood, Expected Response: notfood, Correct: True\n",
      "Brand: Brioche Pasquier, Model Response: notfood, Expected Response: notfood, Correct: True\n",
      "Brand: Brossard, Model Response: notfood, Expected Response: notfood, Correct: True\n",
      "Brand: Buitoni, Model Response: notfood, Expected Response: notfood, Correct: True\n",
      "Brand: Bulk, Model Response: notfood, Expected Response: notfood, Correct: True\n",
      "Brand: Butchers, Model Response: notfood, Expected Response: notfood, Correct: True\n",
      "Brand: By Sainsburys, Model Response: notfood, Expected Response: notfood, Correct: True\n",
      "Brand: By sainsburys, Model Response: notfood, Expected Response: notfood, Correct: True\n",
      "Brand: By sainsburys Sainsburys, Model Response: notfood, Expected Response: notfood, Correct: True\n",
      "Brand: B��n��dicta, Model Response: notfood, Expected Response: notfood, Correct: True\n",
      "Brand: CARREFOUR, Model Response: notfood, Expected Response: notfood, Correct: True\n",
      "Brand: COOP, Model Response: notfood, Expected Response: notfood, Correct: True\n",
      "Brand: Cadbury, Model Response: notfood, Expected Response: notfood, Correct: True\n",
      "Brand: Cailler, Model Response: notfood, Expected Response: notfood, Correct: True\n",
      "Brand: Califia Farms, Model Response: notfood, Expected Response: notfood, Correct: True\n",
      "Brand: Calv��, Model Response: notfood, Expected Response: notfood, Correct: True\n",
      "Brand: Cameo, Model Response: notfood, Expected Response: notfood, Correct: True\n",
      "Brand: Campbells, Model Response: notfood, Expected Response: notfood, Correct: True\n",
      "Brand: Campina, Model Response: notfood, Expected Response: notfood, Correct: True\n",
      "Brand: Campofrio, Model Response: notfood, Expected Response: notfood, Correct: True\n",
      "Brand: Canada Dry, Model Response: notfood, Expected Response: notfood, Correct: True\n",
      "Brand: Canderel, Model Response: notfood, Expected Response: notfood, Correct: True\n",
      "Brand: Candia, Model Response: notfood, Expected Response: notfood, Correct: True\n",
      "Brand: Carambar, Model Response: notfood, Expected Response: notfood, Correct: True\n",
      "Brand: Carlsberg, Model Response: notfood, Expected Response: notfood, Correct: True\n",
      "Brand: Carnation, Model Response: notfood, Expected Response: notfood, Correct: True\n",
      "Brand: Carrefour, Model Response: notfood, Expected Response: notfood, Correct: True\n",
      "Brand: Carrefour BIO, Model Response: notfood, Expected Response: notfood, Correct: True\n",
      "Brand: Carrefour Bio, Model Response: notfood, Expected Response: notfood, Correct: True\n",
      "Brand: Carrefour Bio Carrefour, Model Response: notfood, Expected Response: notfood, Correct: True\n",
      "Brand: Carrefour BioCarrefour, Model Response: notfood, Expected Response: notfood, Correct: True\n",
      "Brand: Carrefour Carrefour Bio, Model Response: notfood, Expected Response: notfood, Correct: True\n",
      "Brand: Carrefour Classic, Model Response: notfood, Expected Response: notfood, Correct: True\n",
      "Brand: Carrefour Market, Model Response: notfood, Expected Response: notfood, Correct: True\n",
      "Brand: Carrefour bio, Model Response: notfood, Expected Response: notfood, Correct: True\n",
      "Brand: Carrefour classic, Model Response: notfood, Expected Response: notfood, Correct: True\n",
      "Brand: Casino, Model Response: notfood, Expected Response: notfood, Correct: True\n",
      "Brand: Cassegrain, Model Response: notfood, Expected Response: notfood, Correct: True\n",
      "Brand: Castello, Model Response: notfood, Expected Response: notfood, Correct: True\n",
      "Brand: Cauvin, Model Response: notfood, Expected Response: notfood, Correct: True\n",
      "Brand: Celnat, Model Response: notfood, Expected Response: notfood, Correct: True\n",
      "Brand: Cereal bio, Model Response: notfood, Expected Response: notfood, Correct: True\n",
      "Brand: Chabrior, Model Response: notfood, Expected Response: notfood, Correct: True\n",
      "Brand: Charal, Model Response: notfood, Expected Response: notfood, Correct: True\n",
      "Brand: Charles  Alice, Model Response: notfood, Expected Response: notfood, Correct: True\n",
      "Brand: Cheerios, Model Response: notfood, Expected Response: notfood, Correct: True\n",
      "Brand: Cheetos, Model Response: notfood, Expected Response: notfood, Correct: True\n",
      "Brand: Chef, Model Response: notfood, Expected Response: notfood, Correct: True\n",
      "Brand: Chef Select, Model Response: notfood, Expected Response: notfood, Correct: True\n",
      "Brand: Chef select, Model Response: notfood, Expected Response: notfood, Correct: True\n",
      "Brand: Chiefs, Model Response: notfood, Expected Response: notfood, Correct: True\n",
      "Brand: Chio, Model Response: notfood, Expected Response: notfood, Correct: True\n",
      "Brand: Chips Ahoy, Model Response: notfood, Expected Response: notfood, Correct: True\n",
      "Brand: Chiquita, Model Response: notfood, Expected Response: notfood, Correct: True\n",
      "Brand: Chobani, Model Response: notfood, Expected Response: notfood, Correct: True\n",
      "Brand: Chocapic, Model Response: notfood, Expected Response: notfood, Correct: True\n",
      "Brand: Choceur, Model Response: notfood, Expected Response: notfood, Correct: True\n",
      "Brand: Chomps, Model Response: notfood, Expected Response: notfood, Correct: True\n",
      "Brand: Chupa Chups, Model Response: notfood, Expected Response: notfood, Correct: True\n",
      "Brand: Ch��ne dargent, Model Response: notfood, Expected Response: notfood, Correct: True\n",
      "Brand: Circle K, Model Response: notfood, Expected Response: notfood, Correct: True\n",
      "Brand: Cirio, Model Response: notfood, Expected Response: notfood, Correct: True\n",
      "Brand: Citterio, Model Response: notfood, Expected Response: notfood, Correct: True\n",
      "Brand: Cit�� Marine, Model Response: notfood, Expected Response: notfood, Correct: True\n",
      "Brand: Clancys, Model Response: notfood, Expected Response: notfood, Correct: True\n",
      "Brand: Classic, Model Response: notfood, Expected Response: notfood, Correct: True\n",
      "Brand: Clever, Model Response: notfood, Expected Response: notfood, Correct: True\n",
      "Brand: Clipper, Model Response: notfood, Expected Response: notfood, Correct: True\n",
      "Brand: Clover Valley, Model Response: notfood, Expected Response: notfood, Correct: True\n",
      "Brand: Coca Cola, Model Response: notfood, Expected Response: notfood, Correct: True\n",
      "Brand: Coca cola, Model Response: notfood, Expected Response: notfood, Correct: True\n",
      "Brand: CocaCola, Model Response: notfood, Expected Response: notfood, Correct: True\n",
      "Brand: Cocacola, Model Response: notfood, Expected Response: notfood, Correct: True\n",
      "Brand: Coke, Model Response: notfood, Expected Response: notfood, Correct: True\n",
      "Brand: pomodoro, Model Response: food, Expected Response: food, Correct: True\n",
      "Brand: pear, Model Response: food, Expected Response: food, Correct: True\n",
      "Brand: tacos, Model Response: food, Expected Response: food, Correct: True\n",
      "Brand: manzana, Model Response: food, Expected Response: food, Correct: True\n",
      "Brand: pasta, Model Response: food, Expected Response: food, Correct: True\n",
      "Brand: pain, Model Response: food, Expected Response: food, Correct: True\n",
      "Brand: queso, Model Response: food, Expected Response: food, Correct: True\n",
      "Brand: banana, Model Response: food, Expected Response: food, Correct: True\n",
      "Brand: arroz, Model Response: food, Expected Response: food, Correct: True\n",
      "Brand: pollo, Model Response: food, Expected Response: food, Correct: True\n",
      "Brand: pane, Model Response: food, Expected Response: food, Correct: True\n",
      "Brand: uova, Model Response: food, Expected Response: food, Correct: True\n",
      "Brand: fagioli, Model Response: food, Expected Response: food, Correct: True\n",
      "Brand: carne, Model Response: food, Expected Response: food, Correct: True\n",
      "Brand: pesce, Model Response: food, Expected Response: food, Correct: True\n",
      "Brand: patata, Model Response: food, Expected Response: food, Correct: True\n",
      "Brand: tomate, Model Response: food, Expected Response: food, Correct: True\n",
      "Brand: leche, Model Response: food, Expected Response: food, Correct: True\n",
      "Brand: queso, Model Response: food, Expected Response: food, Correct: True\n",
      "Brand: pan, Model Response: food, Expected Response: food, Correct: True\n",
      "Brand: pollo, Model Response: food, Expected Response: food, Correct: True\n",
      "Brand: arroz, Model Response: food, Expected Response: food, Correct: True\n",
      "Brand: pasta, Model Response: food, Expected Response: food, Correct: True\n",
      "Brand: carne, Model Response: food, Expected Response: food, Correct: True\n",
      "Brand: pescado, Model Response: food, Expected Response: food, Correct: True\n",
      "Brand: patata, Model Response: food, Expected Response: food, Correct: True\n",
      "Brand: tomate, Model Response: food, Expected Response: food, Correct: True\n",
      "Brand: leche, Model Response: food, Expected Response: food, Correct: True\n",
      "Brand: queso, Model Response: food, Expected Response: food, Correct: True\n",
      "Brand: pan, Model Response: food, Expected Response: food, Correct: True\n",
      "Brand: pollo, Model Response: food, Expected Response: food, Correct: True\n",
      "Brand: arroz, Model Response: food, Expected Response: food, Correct: True\n",
      "Brand: pasta, Model Response: food, Expected Response: food, Correct: True\n",
      "Brand: carne, Model Response: food, Expected Response: food, Correct: True\n",
      "Brand: pescado, Model Response: food, Expected Response: food, Correct: True\n",
      "Brand: patata, Model Response: food, Expected Response: food, Correct: True\n",
      "Brand: tomate, Model Response: food, Expected Response: food, Correct: True\n",
      "Brand: leche, Model Response: food, Expected Response: food, Correct: True\n",
      "Brand: queso, Model Response: food, Expected Response: food, Correct: True\n",
      "Brand: pan, Model Response: food, Expected Response: food, Correct: True\n",
      "Brand: pollo, Model Response: food, Expected Response: food, Correct: True\n",
      "Brand: arroz, Model Response: food, Expected Response: food, Correct: True\n",
      "Brand: pasta, Model Response: food, Expected Response: food, Correct: True\n",
      "Brand: carne, Model Response: food, Expected Response: food, Correct: True\n",
      "Brand: pescado, Model Response: food, Expected Response: food, Correct: True\n",
      "Brand: patata, Model Response: food, Expected Response: food, Correct: True\n",
      "Brand: tomate, Model Response: food, Expected Response: food, Correct: True\n",
      "Brand: leche, Model Response: food, Expected Response: food, Correct: True\n",
      "Brand: queso, Model Response: food, Expected Response: food, Correct: True\n",
      "\n",
      "Percentage of correct responses: 98.58%\n"
     ]
    }
   ],
   "source": [
    "from creazioni_varie_di_file_script import testa_accuratezza_filtraggio_brand\n",
    "\n",
    "file1 = \"../File_CSV/brands.csv\"\n",
    "file = \"../File_CSV/brand_prova.csv\"\n",
    "testa_accuratezza_filtraggio_brand(file1, file)"
   ]
  },
  {
   "cell_type": "markdown",
   "metadata": {},
   "source": [
    "# analisi numero di cibi non considerati eliminando i brand che appaiono meno di n volte"
   ]
  },
  {
   "cell_type": "code",
   "execution_count": null,
   "metadata": {},
   "outputs": [
    {
     "name": "stdout",
     "output_type": "stream",
     "text": [
      "Soglia: 2\n",
      "Numero di prodotti eliminati: 173501\n",
      "Numero di prodotti rimanenti: 1823850\n",
      "Soglia: 3\n",
      "Numero di prodotti eliminati: 241803\n",
      "Numero di prodotti rimanenti: 1755548\n",
      "Soglia: 4\n",
      "Numero di prodotti eliminati: 289854\n",
      "Numero di prodotti rimanenti: 1707497\n",
      "Soglia: 5\n",
      "Numero di prodotti eliminati: 328098\n",
      "Numero di prodotti rimanenti: 1669253\n",
      "Soglia: 6\n",
      "Numero di prodotti eliminati: 360013\n",
      "Numero di prodotti rimanenti: 1637338\n",
      "Soglia: 7\n",
      "Numero di prodotti eliminati: 387361\n",
      "Numero di prodotti rimanenti: 1609990\n",
      "Soglia: 8\n",
      "Numero di prodotti eliminati: 411308\n",
      "Numero di prodotti rimanenti: 1586043\n",
      "Soglia: 9\n",
      "Numero di prodotti eliminati: 432780\n",
      "Numero di prodotti rimanenti: 1564571\n"
     ]
    },
    {
     "data": {
      "text/plain": [
       "({2: 173501,\n",
       "  3: 241803,\n",
       "  4: 289854,\n",
       "  5: 328098,\n",
       "  6: 360013,\n",
       "  7: 387361,\n",
       "  8: 411308,\n",
       "  9: 432780},\n",
       " {2: 1823850,\n",
       "  3: 1755548,\n",
       "  4: 1707497,\n",
       "  5: 1669253,\n",
       "  6: 1637338,\n",
       "  7: 1609990,\n",
       "  8: 1586043,\n",
       "  9: 1564571})"
      ]
     },
     "execution_count": 1,
     "metadata": {},
     "output_type": "execute_result"
    }
   ],
   "source": [
    "from creazioni_varie_di_file_script import count_products_by_brand_threshold\n",
    "\n",
    "csv_file = \"../File_CSV/en.openfoodfacts.org.products.csv\"\n",
    "count_products_by_brand_threshold(csv_file, range(2, 10))"
   ]
  },
  {
   "cell_type": "markdown",
   "metadata": {},
   "source": [
    "# salvo brand che appaiono più di n volte\n"
   ]
  },
  {
   "cell_type": "code",
   "execution_count": null,
   "metadata": {},
   "outputs": [],
   "source": [
    "from creazioni_varie_di_file_script import extract_clean_brands\n",
    "\n",
    "input_file = \"../File_CSV/en.openfoodfacts.org.products.csv\"\n",
    "output_file = \"../File_CSV/brands.csv\"\n",
    "extract_clean_brands(input_file=input_file, output_file=output_file, n=10)\n"
   ]
  },
  {
   "cell_type": "markdown",
   "metadata": {},
   "source": [
    "# filtro i brand con l'LLM"
   ]
  },
  {
   "cell_type": "markdown",
   "metadata": {},
   "source": [
    "pulisco il file dei brand creandone uno pulito senza brand corrispondenti a nomi di cibi"
   ]
  },
  {
   "cell_type": "code",
   "execution_count": null,
   "metadata": {},
   "outputs": [],
   "source": [
    "from creazioni_varie_di_file_script import pulitura_brand\n",
    "\n",
    "file = \"../File_CSV/brands.csv\"\n",
    "output_file = \"../File_CSV/brands_filtered.csv\"\n",
    "pulitura_brand(file, output_file)"
   ]
  },
  {
   "cell_type": "markdown",
   "metadata": {},
   "source": [
    "### Analisi numero di istanze per ogni colonna di off"
   ]
  },
  {
   "cell_type": "code",
   "execution_count": 17,
   "metadata": {},
   "outputs": [
    {
     "name": "stdout",
     "output_type": "stream",
     "text": [
      "Analisi completata. Risultati salvati in ../File_CSV/column_analysis.csv\n"
     ]
    }
   ],
   "source": [
    "from creazioni_varie_di_file_script import analisi_numero_istanze_per_colonna\n",
    "\n",
    "input_file = \"../File_CSV/en.openfoodfacts.org.products.csv\"\n",
    "output_file = \"../File_CSV/column_analysis.csv\"\n",
    "chunk_size = 120000\n",
    "analisi_numero_istanze_per_colonna(input_file, output_file, chunk_size)"
   ]
  },
  {
   "cell_type": "markdown",
   "metadata": {},
   "source": [
    "# Modello per estrarre informazioni sugli utenti da la User Description"
   ]
  },
  {
   "cell_type": "markdown",
   "metadata": {},
   "source": [
    "salvo in un file tutte le descrizioni"
   ]
  },
  {
   "cell_type": "code",
   "execution_count": 14,
   "metadata": {},
   "outputs": [],
   "source": [
    "from creazioni_varie_di_file_script import estrai_descrizione\n",
    "\n",
    "input_file = '../File_CSV/pp_members.csv' \n",
    "output_file = '../File_CSV/descrizioni_utenti.csv' \n",
    "estrai_descrizione(input_file, output_file, nome_colonna=\"member_description\", righe=100)"
   ]
  },
  {
   "cell_type": "markdown",
   "metadata": {},
   "source": [
    "creo il modello che estrae le informazioni"
   ]
  },
  {
   "cell_type": "code",
   "execution_count": 15,
   "metadata": {},
   "outputs": [],
   "source": [
    "from creazioni_varie_di_file_script import crea_estrattore_member_description\n",
    "\n",
    "crea_estrattore_member_description()"
   ]
  },
  {
   "cell_type": "markdown",
   "metadata": {},
   "source": [
    "estraggo i valori degli attributi usando il LLM"
   ]
  },
  {
   "cell_type": "code",
   "execution_count": 16,
   "metadata": {},
   "outputs": [
    {
     "name": "stdout",
     "output_type": "stream",
     "text": [
      "descrizione utente: \n",
      " [\"I'm a registered nurse in an alcohol treatment center.\\xa0 I enjoy gardening , reading cooking magazines and books. My inspiration for cooking comes from my desire to nurture my family and love of good food.\"]\n",
      "attributi estratti: \n",
      " ####### age: 30-50, physical activity category: gardening\n",
      "descrizione utente: \n",
      " [\"I am an Army wife...have been for 3 years. I have a wonderful husband and the two of us have a BEAUTIFUL lil girl. She will be 2 in December. I Am also a stay home mom. I love every second of being mommy. My family is very important to me.I love to cook an try new things. Altough at times ingredients are exspensive so I dont get too all that often.As far as dinner go I am a big fan of quick!! But we like good home cooked meals. We love chili's and chicken an dumplins.Im a taco fan myself.Chicken is usaly on our menu nightly! We always eat together as a family. I love to bake and my husband loves the fact that i like to bake haha.\"]\n",
      "attributi estratti: \n",
      " ####### gender: female, age: 25-40, dietary preferences: none\n",
      "descrizione utente: \n",
      " [\"I'm a student at UBC, I plan on becoming a Dietician. I am a vegan, and I love raw, alive, pretty, colorful, sensual foods best! I am passionate about food, baking, cooking, and health. I'm not interested in close-minded people. I love cookbooks, especially the beautiful old ones from second hand stores--forgotten gems! I love to walk, do yoga, garden, be with my loved ones, volunteer, read, sew, etc. Nothing better than making food for your friends, it makes my heart sparkle!\"]\n",
      "attributi estratti: \n",
      " ####### age: 18-25, dietary preference: vegan, physical activity category: walking, physical activity category: yoga, physical activity category: gardening\n",
      "descrizione utente: \n",
      " ['I love to cook. Some people get stressed and run - I get stressed and cook / bake. I wish it came naturally to me - that I had the palette to just whip it all together in some magnificent glory that stimulates every taste bud - but I am not that good. In the mean time - I follow recipes and keep on trying.']\n",
      "attributi estratti: \n",
      " ####### none\n",
      "descrizione utente: \n",
      " ['I recently moved to Houston from the New Orleans area and my husband and I are really missing all the restaurants.']\n",
      "attributi estratti: \n",
      " ####### gender: female, age: 30-50\n",
      "descrizione utente: \n",
      " ['Love to cook and find and prepare new recipes. My family always comes first with me. My husband and I also love to entertain.']\n",
      "attributi estratti: \n",
      " ####### gender: female, age: 30-50\n",
      "descrizione utente: \n",
      " [\"I love sports and meeting people. I also love cooking for people. Who doesn't appreciate good home-cooking? I'll be sad when my son graduates college because his football buddies are some of my most appreciative fans. Go Crimson!\"]\n",
      "attributi estratti: \n",
      " ####### age: 40-60, physical activity category: sports, gender: female\n"
     ]
    }
   ],
   "source": [
    "from creazioni_varie_di_file_script import testa_estrazione_attributi_utenti\n",
    "\n",
    "file_prova = '../File_CSV/descrizioni_utenti.csv' \n",
    "testa_estrazione_attributi_utenti(file_prova)"
   ]
  },
  {
   "cell_type": "markdown",
   "metadata": {},
   "source": [
    "# analisi attributo quantities di open food facts\n"
   ]
  },
  {
   "cell_type": "code",
   "execution_count": 6,
   "metadata": {},
   "outputs": [],
   "source": [
    "from creazioni_varie_di_file_script import analisi_quantities\n",
    "\n",
    "input_file = \"../File_CSV/en.openfoodfacts.org.products.csv\"\n",
    "output_file = \"../File_CSV/quantities.csv\"\n",
    "analisi_quantities(input_file, output_file,n=5)"
   ]
  }
 ],
 "metadata": {
  "kernelspec": {
   "display_name": "kambinete",
   "language": "python",
   "name": "python3"
  },
  "language_info": {
   "codemirror_mode": {
    "name": "ipython",
    "version": 3
   },
   "file_extension": ".py",
   "mimetype": "text/x-python",
   "name": "python",
   "nbconvert_exporter": "python",
   "pygments_lexer": "ipython3",
   "version": "3.10.13"
  }
 },
 "nbformat": 4,
 "nbformat_minor": 2
}
