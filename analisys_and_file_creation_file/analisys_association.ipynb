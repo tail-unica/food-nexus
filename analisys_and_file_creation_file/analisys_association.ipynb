{
 "cells": [
  {
   "cell_type": "code",
   "execution_count": null,
   "id": "cbd78369",
   "metadata": {},
   "outputs": [
    {
     "name": "stdout",
     "output_type": "stream",
     "text": [
      "Caricamento dei dataframe...\n",
      "Dataframe caricati\n",
      "Dataframe filtrati\n",
      "Costruzione dizionari di attributi aggregati...\n",
      "Inizio il calcolo delle statistiche...\n"
     ]
    },
    {
     "name": "stderr",
     "output_type": "stream",
     "text": [
      "Processing attributes: 100%|██████████| 207/207 [00:00<00:00, 571.81it/s]"
     ]
    },
    {
     "name": "stdout",
     "output_type": "stream",
     "text": [
      "Generazione file CSV finale...\n",
      "Fatto! File salvato in ../csv_file/hummus_off_attribute_coverage.csv\n"
     ]
    },
    {
     "name": "stderr",
     "output_type": "stream",
     "text": [
      "\n"
     ]
    }
   ],
   "source": [
    "import pandas as pd\n",
    "import tqdm\n",
    "\n",
    "print(\"Caricamento dei dataframe...\")\n",
    "\n",
    "hummus_df = pd.read_csv(\"../csv_file/pp_recipes_normalized_by_pipeline.csv\", sep=\";\", low_memory=False, on_bad_lines=\"skip\")\n",
    "off_df = pd.read_csv(\"../csv_file/off_normalized_final.csv\", sep=\"\\t\", low_memory=False, on_bad_lines=\"skip\", nrows=100000)\n",
    "mapping_df = pd.read_csv(\"../csv_file/file_off_hummus.csv\", sep=\",\", low_memory=False, on_bad_lines=\"skip\")\n",
    "\n",
    "print(\"Dataframe caricati\")\n",
    "\n",
    "off_df = off_df[off_df['product_name_normalized'].isin(mapping_df['product_name_normalized'])]\n",
    "hummus_df = hummus_df[hummus_df['title_normalized'].isin(mapping_df['title_normalized'])]\n",
    "mapping_df = mapping_df.drop_duplicates()\n",
    "\n",
    "total_hummus = len(hummus_df)\n",
    "print(\"Dataframe filtrati\")\n",
    "\n",
    "unique_hummus_recipes = set(hummus_df[\"title_normalized\"])\n",
    "\n",
    "hummus_to_off = {}\n",
    "for _, row in mapping_df.iterrows():\n",
    "    hummus_name = row[\"title_normalized\"]\n",
    "    off_name = row[\"product_name_normalized\"]\n",
    "    \n",
    "    if hummus_name in unique_hummus_recipes:\n",
    "        hummus_to_off.setdefault(hummus_name, set()).add(off_name)\n",
    "\n",
    "off_attributes = [col for col in off_df.columns if col != \"product_name_normalized\"]\n",
    "\n",
    "print(\"Costruzione dizionari di attributi aggregati...\")\n",
    "\n",
    "attribute_presence_map = {attr: set() for attr in off_attributes}\n",
    "\n",
    "for attr in off_attributes:\n",
    "    col_data = off_df[[\"product_name_normalized\", attr]].dropna()\n",
    "    col_data = col_data[col_data[attr].astype(str).str.strip() != \"\"]\n",
    "    attribute_presence_map[attr].update(col_data[\"product_name_normalized\"])\n",
    "\n",
    "print(\"Inizio il calcolo delle statistiche...\")\n",
    "\n",
    "attribute_counts = {}\n",
    "attribute_percentages = {}\n",
    "\n",
    "for attr in tqdm.tqdm(off_attributes, desc=\"Processing attributes\"):\n",
    "    valid_products = attribute_presence_map[attr]\n",
    "\n",
    "    recipes_with_attr = {\n",
    "        hummus_name\n",
    "        for hummus_name, off_names in hummus_to_off.items()\n",
    "        if any(off_name in valid_products for off_name in off_names)\n",
    "    }\n",
    "\n",
    "    count = len(recipes_with_attr)\n",
    "    attribute_counts[attr] = count\n",
    "    attribute_percentages[attr] = count / total_hummus * 100\n",
    "\n",
    "print(\"Generazione file CSV finale...\")\n",
    "\n",
    "result_df = pd.DataFrame({\n",
    "    'count': attribute_counts,\n",
    "    'percentage': attribute_percentages\n",
    "})\n",
    "\n",
    "result_df = result_df.sort_values('percentage', ascending=False)\n",
    "result_df['percentage'] = result_df['percentage'].apply(lambda x: f\"{x:.2f}%\")\n",
    "result_df.to_csv(\"../csv_file/hummus_off_attribute_coverage.csv\")\n",
    "\n",
    "print(\"Fatto! File salvato in ../csv_file/hummus_off_attribute_coverage.csv\")\n"
   ]
  }
 ],
 "metadata": {
  "kernelspec": {
   "display_name": "ambientez",
   "language": "python",
   "name": "python3"
  },
  "language_info": {
   "codemirror_mode": {
    "name": "ipython",
    "version": 3
   },
   "file_extension": ".py",
   "mimetype": "text/x-python",
   "name": "python",
   "nbconvert_exporter": "python",
   "pygments_lexer": "ipython3",
   "version": "3.13.0"
  }
 },
 "nbformat": 4,
 "nbformat_minor": 5
}
