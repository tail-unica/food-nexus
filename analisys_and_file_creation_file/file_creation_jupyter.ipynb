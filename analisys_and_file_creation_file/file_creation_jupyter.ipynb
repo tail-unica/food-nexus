{
 "cells": [
  {
   "cell_type": "markdown",
   "metadata": {},
   "source": [
    "# Save rows from HUMMUS and open food facts  "
   ]
  },
  {
   "cell_type": "code",
   "execution_count": 1,
   "metadata": {},
   "outputs": [],
   "source": [
    "from file_creation import extract_rows\n",
    "\n",
    "rows = 3\n",
    "\n",
    "input_file = \"../csv_file/pp_recipes.csv\"\n",
    "output_file = \"../csv_file/pp_recipes_rows.csv\"\n",
    "extract_rows(input_file, output_file, rows=rows)\n",
    "\n",
    "input_file = \"../csv_file/pp_members.csv\"\n",
    "output_file = \"../csv_file/pp_members_rows.csv\"\n",
    "extract_rows(input_file, output_file, rows=rows)\n",
    "\n",
    "input_file = \"../csv_file/pp_reviews.csv\"\n",
    "output_file = \"../csv_file/pp_reviews_rows.csv\"\n",
    "extract_rows(input_file, output_file, rows=rows)\n",
    "\n",
    "input_file = \"../csv_file/en.openfoodfacts.org.products.csv\"\n",
    "output_file = \"../csv_file/off_rows.csv\"\n",
    "extract_rows(input_file, output_file, rows=rows, delimiter=\"\\t\")"
   ]
  },
  {
   "cell_type": "markdown",
   "metadata": {},
   "source": [
    "# Save casual row from off to create a test dataset "
   ]
  },
  {
   "cell_type": "code",
   "execution_count": null,
   "metadata": {},
   "outputs": [],
   "source": [
    "from file_creation import extract_rows_random\n",
    "\n",
    "rows = 200\n",
    "input_file = \"../csv_file/en.openfoodfacts.org.products.csv\"\n",
    "output_file = \"../csv_file/off_rows_casual.csv\"\n",
    "extract_rows_random(input_file, output_file, rows=rows, delimiter=\"\\t\")"
   ]
  },
  {
   "cell_type": "markdown",
   "metadata": {},
   "source": [
    "# Save recipe name from hummus and open food facts"
   ]
  },
  {
   "cell_type": "code",
   "execution_count": 2,
   "metadata": {},
   "outputs": [],
   "source": [
    "from file_creation import extract_recipes\n",
    "\n",
    "rows = 3\n",
    "\n",
    "input_file = \"../csv_file/pp_recipes.csv\"\n",
    "output_file = \"../csv_file/hummus_recipes.csv\"\n",
    "extract_recipes(input_file, output_file, column_name=\"title\", rows=rows)\n",
    "\n",
    "input_file = \"../csv_file/en.openfoodfacts.org.products.csv\"\n",
    "output_file = \"../csv_file/off_recipes.csv\"\n",
    "extract_recipes(\n",
    "    input_file,\n",
    "    output_file,\n",
    "    column_name=\"product_name\",\n",
    "    rows=rows,\n",
    "    delimiter1=\"\\t\",\n",
    "    delimiter2=\" \",\n",
    ")"
   ]
  },
  {
   "cell_type": "markdown",
   "metadata": {},
   "source": [
    "# Save ingredients name from foodKg"
   ]
  },
  {
   "cell_type": "code",
   "execution_count": 3,
   "metadata": {},
   "outputs": [
    {
     "name": "stdout",
     "output_type": "stream",
     "text": [
      "File ../csv_file/ingredients_food_kg.csv created with 17312 unique ingredients and 3826170 total occurrences.\n"
     ]
    }
   ],
   "source": [
    "from file_creation import extract_ingredients_foodkg\n",
    "\n",
    "input_file = \"../csv_file/pp_recipes.csv\"\n",
    "output_file = \"../csv_file/ingredients_food_kg.csv\"\n",
    "extract_ingredients_foodkg(\n",
    "    input_file=input_file, output_file=output_file, min_occurrences=0\n",
    ")"
   ]
  },
  {
   "cell_type": "markdown",
   "metadata": {},
   "source": [
    "# Save all adjectives from FoodKG food"
   ]
  },
  {
   "cell_type": "code",
   "execution_count": 4,
   "metadata": {},
   "outputs": [
    {
     "name": "stdout",
     "output_type": "stream",
     "text": [
      "File ../csv_file/aggettivi_FoodKg.csv created with 745 unique adjectives.\n"
     ]
    }
   ],
   "source": [
    "from file_creation import extract_adjectives_foodkg\n",
    "\n",
    "input_file = \"../csv_file/ingredients_food_kg.csv\"\n",
    "output_file = \"../csv_file/aggettivi_FoodKg.csv\"\n",
    "extract_adjectives_foodkg(\n",
    "    input_file=input_file, output_file=output_file, text_column=\"ingredient\"\n",
    ")"
   ]
  },
  {
   "cell_type": "markdown",
   "metadata": {},
   "source": [
    "# Save all tags from HUMMUS"
   ]
  },
  {
   "cell_type": "code",
   "execution_count": 6,
   "metadata": {},
   "outputs": [],
   "source": [
    "from file_creation import extract_tags_unique\n",
    "\n",
    "extract_tags_unique(\n",
    "    \"../csv_file/pp_recipes.csv\", \"../csv_file/tag_hummus_frequency.csv\"\n",
    ")"
   ]
  },
  {
   "cell_type": "markdown",
   "metadata": {},
   "source": [
    "# Save brand that appear more than n times\n"
   ]
  },
  {
   "cell_type": "code",
   "execution_count": null,
   "metadata": {},
   "outputs": [],
   "source": [
    "from file_creation import extract_clean_brands\n",
    "\n",
    "input_file = \"../csv_file/en.openfoodfacts.org.products.csv\"\n",
    "output_file = \"../csv_file/brands.csv\"\n",
    "extract_clean_brands(input_file=input_file, output_file=output_file, n=5)"
   ]
  },
  {
   "cell_type": "markdown",
   "metadata": {},
   "source": [
    "# Brand filtering with the food expert model"
   ]
  },
  {
   "cell_type": "markdown",
   "metadata": {},
   "source": [
    "clean the brand file from food names and save it as a new file"
   ]
  },
  {
   "cell_type": "code",
   "execution_count": null,
   "metadata": {},
   "outputs": [],
   "source": [
    "from file_creation import brand_filtering\n",
    "\n",
    "file = \"../csv_file/brands.csv\"\n",
    "output_file = \"../csv_file/brands_filtered.csv\"\n",
    "brand_filtering(file, output_file)"
   ]
  },
  {
   "cell_type": "markdown",
   "metadata": {},
   "source": [
    "# Create a file with some member description for test the attribute extractor model"
   ]
  },
  {
   "cell_type": "code",
   "execution_count": null,
   "metadata": {},
   "outputs": [],
   "source": [
    "from file_creation import extract_description\n",
    "\n",
    "rows = 20\n",
    "input_file = \"../csv_file/pp_members.csv\"\n",
    "output_file = \"../csv_file/user_description.csv\"\n",
    "extract_description(input_file, output_file, column_name=\"member_description\", rows=rows)"
   ]
  }
 ],
 "metadata": {
  "kernelspec": {
   "display_name": "kambinete",
   "language": "python",
   "name": "python3"
  },
  "language_info": {
   "codemirror_mode": {
    "name": "ipython",
    "version": 3
   },
   "file_extension": ".py",
   "mimetype": "text/x-python",
   "name": "python",
   "nbconvert_exporter": "python",
   "pygments_lexer": "ipython3",
   "version": "3.10.13"
  }
 },
 "nbformat": 4,
 "nbformat_minor": 2
}
