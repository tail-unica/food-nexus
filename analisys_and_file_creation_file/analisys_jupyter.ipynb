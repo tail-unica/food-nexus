{
 "cells": [
  {
   "cell_type": "markdown",
   "metadata": {},
   "source": [
    "# Test the model for the food name translation"
   ]
  },
  {
   "cell_type": "code",
   "execution_count": null,
   "metadata": {},
   "outputs": [
    {
     "name": "stdout",
     "output_type": "stream",
     "text": [
      "pane al mais corn bread\n",
      "apple eng\n"
     ]
    }
   ],
   "source": [
    "from analisys import translate_to_english_test\n",
    "\n",
    "food_list = [\n",
    "    \"pane al mais\",  # Corn bread in Italian\n",
    "    \"apple\",  # English\n",
    "    \"mela\",  # Apple in Italian\n",
    "    \"taco\",  # English\n",
    "    \"gâteau\",  # Cake in French\n",
    "    \"spaghetti\",  # English\n",
    "    \"burrito\",  # English\n",
    "    \"alimento\",  # Food in Spanish\n",
    "    \"salmon\",  # English\n",
    "    \"limone\",  # Lemon in Italian\n",
    "    \"cheeseburger\",  # English\n",
    "    \"pasta\",  # English\n",
    "    \"tortilla\",  # English\n",
    "    \"sushi\",  # English\n",
    "    \"zucchini\",  # English\n",
    "    \"carne\",  # Meat in Spanish\n",
    "    \"frutta\",  # Fruit in Italian\n",
    "    \"okonomiyaki\",  # Japanese savory pancake\n",
    "    \"pomme de terre\",  # Potato in French\n",
    "    '\"baguette parisien\"',\n",
    "]\n",
    "\n",
    "for food in food_list:\n",
    "    response = translate_to_english_test(text=food)"
   ]
  },
  {
   "cell_type": "markdown",
   "metadata": {},
   "source": [
    "# Test brand filtering accuracy test"
   ]
  },
  {
   "cell_type": "code",
   "execution_count": 1,
   "metadata": {},
   "outputs": [
    {
     "name": "stdout",
     "output_type": "stream",
     "text": [
      "Brand: pasta, Model Response: food, Expected Response: food, Correct: True\n",
      "Brand: mela, Model Response: food, Expected Response: food, Correct: True\n",
      "Brand: tonno, Model Response: food, Expected Response: food, Correct: True\n",
      "Brand: Nestlé, Model Response: notfood, Expected Response: notfood, Correct: True\n",
      "\n",
      "Percentage of correct responses: 100.00%\n"
     ]
    }
   ],
   "source": [
    "from analisys import test_filtering_brand_accuracy\n",
    "\n",
    "file = \"../csv_file/brand_filter_test.csv\"\n",
    "test_filtering_brand_accuracy( file)"
   ]
  },
  {
   "cell_type": "markdown",
   "metadata": {},
   "source": [
    "# Test user attributes extraction from user descriptions"
   ]
  },
  {
   "cell_type": "code",
   "execution_count": 5,
   "metadata": {},
   "outputs": [
    {
     "name": "stdout",
     "output_type": "stream",
     "text": [
      "User description: \n",
      " [\"I'm a registered nurse in an alcohol treatment center.\\xa0 I enjoy gardening , reading cooking magazines and books. My inspiration for cooking comes from my desire to nurture my family and love of good food.\"]\n",
      "Extracted attributes: \n",
      " ####### age: 30-50 (inferred), physical activity category: gardening\n"
     ]
    }
   ],
   "source": [
    "from analisys import test_attribute_extraction\n",
    "\n",
    "file = \"../csv_file/user_description.csv\"\n",
    "test_attribute_extraction(file)"
   ]
  },
  {
   "cell_type": "markdown",
   "metadata": {},
   "source": [
    "# Analisys brand threshold"
   ]
  },
  {
   "cell_type": "code",
   "execution_count": null,
   "metadata": {},
   "outputs": [],
   "source": [
    "from analisys import count_products_by_brand_threshold\n",
    "\n",
    "csv_file = \"../csv_file/en.openfoodfacts.org.products.csv\"\n",
    "count_products_by_brand_threshold(csv_file, range(2, 10))"
   ]
  },
  {
   "cell_type": "markdown",
   "metadata": {},
   "source": [
    "# Analisys number of istance for column in off"
   ]
  },
  {
   "cell_type": "code",
   "execution_count": null,
   "metadata": {},
   "outputs": [],
   "source": [
    "from analisys import number_of_instance_for_columns\n",
    "\n",
    "input_file = \"../csv_file/en.openfoodfacts.org.products.csv\"\n",
    "output_file = \"../csv_file/column_analysis.csv\"\n",
    "chunk_size = 120000\n",
    "number_of_instance_for_columns(input_file, output_file, chunk_size)"
   ]
  },
  {
   "cell_type": "markdown",
   "metadata": {},
   "source": [
    "# Analisys quantities attributes from off\n"
   ]
  },
  {
   "cell_type": "code",
   "execution_count": 6,
   "metadata": {},
   "outputs": [],
   "source": [
    "from analisys import analisys_quantities\n",
    "\n",
    "input_file = \"../csv_file/en.openfoodfacts.org.products.csv\"\n",
    "output_file = \"../csv_file/quantities.csv\"\n",
    "analisys_quantities(input_file, output_file, n=5)"
   ]
  },
  {
   "cell_type": "markdown",
   "metadata": {},
   "source": [
    "# Analisys on attribute distribution on off"
   ]
  },
  {
   "cell_type": "code",
   "execution_count": 1,
   "metadata": {},
   "outputs": [
    {
     "name": "stderr",
     "output_type": "stream",
     "text": [
      "/home/gzedda/kgeats/analisys_and_file_creation_file/analisys.py:215: DtypeWarning: Columns (0,11,14,15,16,17,23,24,25,26,27,31,32,33,34,35,36,37,45,50,52,53,56,67,72) have mixed types. Specify dtype option on import or set low_memory=False.\n",
      "  df = pd.read_csv(csv_file, delimiter=\"\\t\", on_bad_lines=\"skip\")\n",
      "/home/gzedda/kgeats/analisys_and_file_creation_file/analisys.py:231: FutureWarning: \n",
      "\n",
      "Passing `palette` without assigning `hue` is deprecated and will be removed in v0.14.0. Assign the `x` variable to `hue` and set `legend=False` for the same effect.\n",
      "\n",
      "  sns.barplot(x=populated_counts.index, y=populated_counts.values, palette=\"viridis\")\n"
     ]
    },
    {
     "name": "stdout",
     "output_type": "stream",
     "text": [
      "Plot saved at: ../csv_file/populated_counts.png\n"
     ]
    }
   ],
   "source": [
    "from analisys import plot_populated_counts\n",
    "\n",
    "csv_file_path = \"../csv_file/en.openfoodfacts.org.products.csv\"\n",
    "output_directory = \"../csv_file\"\n",
    "columns_to_plot = [\n",
    "    \"product_name\",\n",
    "    \"allergens\", \n",
    "    \"traces_en\",\n",
    "    \"calcium_100g\",\n",
    "    \"iron_100g\",\n",
    "    \"vitamin-c_100g\",\n",
    "    \"vitamin-a_100g\",\n",
    "    \"nutriscore_score\",\n",
    "    \"nutrition-score-fr_100g\",\n",
    "    \"nutriscore_grade\",\n",
    "    \"nova_group\",\n",
    "    \"ecoscore_grade\",\n",
    "    \"ecoscore_score\",\n",
    "    \"nutriscore_grade\",\n",
    "    \"nova_group\",\n",
    "    \"ecoscore_grade\",\n",
    "    \"ecoscore_score\",\n",
    "    \"generic_name\",\n",
    "    \"ingredients_text\"\n",
    "    ]\n",
    "\n",
    "plot_populated_counts(csv_file_path, output_directory, columns_to_plot)"
   ]
  }
 ],
 "metadata": {
  "kernelspec": {
   "display_name": "ambientez",
   "language": "python",
   "name": "python3"
  },
  "language_info": {
   "codemirror_mode": {
    "name": "ipython",
    "version": 3
   },
   "file_extension": ".py",
   "mimetype": "text/x-python",
   "name": "python",
   "nbconvert_exporter": "python",
   "pygments_lexer": "ipython3",
   "version": "3.13.0"
  }
 },
 "nbformat": 4,
 "nbformat_minor": 2
}
