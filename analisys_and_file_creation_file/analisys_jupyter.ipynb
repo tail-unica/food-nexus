{
 "cells": [
  {
   "cell_type": "markdown",
   "metadata": {},
   "source": [
    "# Test the model for the food name translation"
   ]
  },
  {
   "cell_type": "code",
   "execution_count": null,
   "metadata": {},
   "outputs": [],
   "source": [
    "from analisys import translate_to_english_test\n",
    "\n",
    "food_list = [\n",
    "    \"pane al mais\",  # Corn bread in Italian\n",
    "    \"apple\",  # English\n",
    "    \"mela\",  # Apple in Italian\n",
    "    \"taco\",  # English\n",
    "    \"gâteau\",  # Cake in French\n",
    "    \"spaghetti\",  # English\n",
    "    \"burrito\",  # English\n",
    "    \"alimento\",  # Food in Spanish\n",
    "    \"salmon\",  # English\n",
    "    \"limone\",  # Lemon in Italian\n",
    "    \"cheeseburger\",  # English\n",
    "    \"pasta\",  # English\n",
    "    \"tortilla\",  # English\n",
    "    \"sushi\",  # English\n",
    "    \"zucchini\",  # English\n",
    "    \"carne\",  # Meat in Spanish\n",
    "    \"frutta\",  # Fruit in Italian\n",
    "    \"okonomiyaki\",  # Japanese savory pancake\n",
    "    \"pomme de terre\",  # Potato in French\n",
    "    '\"baguette parisien\"',\n",
    "]\n",
    "\n",
    "for food in food_list:\n",
    "    response = translate_to_english_test(text=food)"
   ]
  },
  {
   "cell_type": "markdown",
   "metadata": {},
   "source": [
    "# Test brand filtering accuracy test"
   ]
  },
  {
   "cell_type": "code",
   "execution_count": null,
   "metadata": {},
   "outputs": [],
   "source": [
    "from analisys import test_filtering_brand_accuracy\n",
    "\n",
    "file = \"../csv_file/brand_filter_test.csv\"\n",
    "test_filtering_brand_accuracy( file)"
   ]
  },
  {
   "cell_type": "markdown",
   "metadata": {},
   "source": [
    "# Test user attributes extraction from user descriptions"
   ]
  },
  {
   "cell_type": "code",
   "execution_count": null,
   "metadata": {},
   "outputs": [],
   "source": [
    "from analisys import test_attribute_extraction\n",
    "\n",
    "file = \"../csv_file/user_description.csv\"\n",
    "test_attribute_extraction(file)"
   ]
  },
  {
   "cell_type": "markdown",
   "metadata": {},
   "source": [
    "# Analisys brand threshold"
   ]
  },
  {
   "cell_type": "code",
   "execution_count": null,
   "metadata": {},
   "outputs": [],
   "source": [
    "from analisys import count_products_by_brand_threshold\n",
    "\n",
    "csv_file = \"../csv_file/off_english.csv\"\n",
    "count_products_by_brand_threshold(csv_file, range(2, 10))"
   ]
  },
  {
   "cell_type": "markdown",
   "metadata": {},
   "source": [
    "# Analisys number of istance for column in off"
   ]
  },
  {
   "cell_type": "code",
   "execution_count": null,
   "metadata": {},
   "outputs": [],
   "source": [
    "from analisys import number_of_instance_for_columns\n",
    "\n",
    "input_file = \"../csv_file/off_english.csv\"\n",
    "output_file = \"../csv_file/column_analysis.csv\"\n",
    "chunk_size = 120000\n",
    "number_of_instance_for_columns(input_file, output_file, chunk_size)"
   ]
  },
  {
   "cell_type": "markdown",
   "metadata": {},
   "source": [
    "# Analisys quantities attributes from off\n"
   ]
  },
  {
   "cell_type": "code",
   "execution_count": null,
   "metadata": {},
   "outputs": [],
   "source": [
    "from analisys import analisys_quantities\n",
    "\n",
    "input_file = \"../csv_file/off_english.csv\"\n",
    "output_file = \"../csv_file/quantities.csv\"\n",
    "analisys_quantities(input_file, output_file, n=5)"
   ]
  },
  {
   "cell_type": "markdown",
   "metadata": {},
   "source": [
    "# Analisys on attribute distribution on off"
   ]
  },
  {
   "cell_type": "code",
   "execution_count": null,
   "metadata": {},
   "outputs": [],
   "source": [
    "from analisys import plot_populated_counts\n",
    "\n",
    "csv_file_path = \"../csv_file/off_english.csv\"\n",
    "output_directory = \"../csv_file\"\n",
    "output_file = \"current_attributes_analisys.png\"\n",
    "columns_to_plot = [\n",
    "    \"product_name\",\n",
    "    \"allergens\", \n",
    "    \"traces_en\",\n",
    "    \"calcium_100g\",\n",
    "    \"iron_100g\",\n",
    "    \"vitamin-c_100g\",\n",
    "    \"vitamin-a_100g\",\n",
    "    \"nutriscore_score\",\n",
    "    \"nutrition-score-fr_100g\",\n",
    "    \"nutriscore_grade\",\n",
    "    \"nova_group\",\n",
    "    \"ecoscore_grade\",\n",
    "    \"ecoscore_score\",\n",
    "    \"nutriscore_grade\",\n",
    "    \"nova_group\",\n",
    "    \"ecoscore_grade\",\n",
    "    \"ecoscore_score\",\n",
    "    \"generic_name\",\n",
    "    \"ingredients_text\"\n",
    "    ]\n",
    "\n",
    "plot_populated_counts(csv_file_path, output_directory, columns_to_plot, output_file)"
   ]
  },
  {
   "cell_type": "code",
   "execution_count": null,
   "metadata": {},
   "outputs": [],
   "source": [
    "from analisys import plot_populated_counts\n",
    "\n",
    "csv_file_path = \"../csv_file/off_english.csv\"\n",
    "output_directory = \"../csv_file\"\n",
    "output_file = \"future_attributes_analisys.png\"\n",
    "columns_to_plot = [\n",
    "    \"product_name\",\n",
    "    \"quantity\", \n",
    "    \"serving_size\",\n",
    "    \"serving_quantity\",\n",
    "    \"food_groups\",\n",
    "    \"food_groups_tags\",\n",
    "    \"food_groups_en\"\n",
    "    \"stores\",\n",
    "    \"countries\"\n",
    "    \"countries_en\",\n",
    "    \"countries_tag\",\n",
    "    \"purchase_places\",\n",
    "    \"origins_en\",\n",
    "    \"cities\",\n",
    "    \"cities_tag\",\n",
    "    \"image_url\",\n",
    "    \"ingredients_text\",\n",
    "    \"ingredients_tags\",\n",
    "    \"additives_n\",\n",
    "    \"additives_en\",\n",
    "    \"brands\",\n",
    "    \"brands_tags\",\n",
    "    \"generic_name\",\n",
    "    \"main_category_en\",\n",
    "    \"owner\",\n",
    "    \"brand_owner\",\n",
    "    \"packaging\",\n",
    "    \"categories\"\n",
    "    ]\n",
    "\n",
    "plot_populated_counts(csv_file_path, output_directory, columns_to_plot, output_file)"
   ]
  },
  {
   "cell_type": "code",
   "execution_count": null,
   "metadata": {},
   "outputs": [],
   "source": [
    "from analisys import plot_populated_counts\n",
    "\n",
    "csv_file_path = \"../csv_file/off_english.csv\"\n",
    "output_directory = \"../csv_file\"\n",
    "output_file = \"shared_attributes_analisys.png\"\n",
    "columns_to_plot = [\n",
    "    \"nutriscore_score\", #not 100% in common with hummus\n",
    "    \"energy_100g\",\n",
    "    \"energy-from-fat_100g\",\n",
    "    \"fat_100g\",\n",
    "    \"saturated-fat_100g\",\n",
    "    \"cholesterol_100g\",\n",
    "    \"sodium_100g\",\n",
    "    \"carbohydrates_100g\",\n",
    "    \"fiber_100g\",\n",
    "    \"sugars_100g\",\n",
    "    \"proteins_100g\",\n",
    "    ]\n",
    "\n",
    "plot_populated_counts(csv_file_path, output_directory, columns_to_plot, output_file)"
   ]
  }
 ],
 "metadata": {
  "kernelspec": {
   "display_name": "ambientez",
   "language": "python",
   "name": "python3"
  },
  "language_info": {
   "codemirror_mode": {
    "name": "ipython",
    "version": 3
   },
   "file_extension": ".py",
   "mimetype": "text/x-python",
   "name": "python",
   "nbconvert_exporter": "python",
   "pygments_lexer": "ipython3",
   "version": "3.13.0"
  }
 },
 "nbformat": 4,
 "nbformat_minor": 2
}
