{
 "cells": [
  {
   "cell_type": "markdown",
   "metadata": {},
   "source": [
    "# Merge the ontologies in a single file"
   ]
  },
  {
   "cell_type": "code",
   "execution_count": null,
   "metadata": {},
   "outputs": [
    {
     "ename": "FileNotFoundError",
     "evalue": "[Errno 2] No such file or directory: './csv_file/pp_recipes_normalized_by_pipeline.csv'",
     "output_type": "error",
     "traceback": [
      "\u001b[0;31m---------------------------------------------------------------------------\u001b[0m",
      "\u001b[0;31mFileNotFoundError\u001b[0m                         Traceback (most recent call last)",
      "Cell \u001b[0;32mIn[1], line 2\u001b[0m\n\u001b[1;32m      1\u001b[0m \u001b[38;5;28;01mfrom\u001b[39;00m \u001b[38;5;21;01mmain\u001b[39;00m \u001b[38;5;28;01mimport\u001b[39;00m create_completed_ontology\n\u001b[0;32m----> 2\u001b[0m \u001b[43mcreate_completed_ontology\u001b[49m\u001b[43m(\u001b[49m\u001b[43mmerge\u001b[49m\u001b[38;5;241;43m=\u001b[39;49m\u001b[38;5;28;43;01mTrue\u001b[39;49;00m\u001b[43m,\u001b[49m\u001b[43m \u001b[49m\u001b[43mthreshold_value\u001b[49m\u001b[38;5;241;43m=\u001b[39;49m\u001b[38;5;241;43m0.1\u001b[39;49m\u001b[43m)\u001b[49m\n",
      "File \u001b[0;32m~/kgeats/main.py:322\u001b[0m, in \u001b[0;36mcreate_completed_ontology\u001b[0;34m(merge, threshold_value, model)\u001b[0m\n\u001b[1;32m    313\u001b[0m hummus_file_path \u001b[38;5;241m=\u001b[39m \u001b[38;5;124m\"\u001b[39m\u001b[38;5;124m./csv_file/pp_recipes_normalized_by_pipeline.csv\u001b[39m\u001b[38;5;124m\"\u001b[39m\n\u001b[1;32m    314\u001b[0m hummus_column \u001b[38;5;241m=\u001b[39m [\n\u001b[1;32m    315\u001b[0m     \u001b[38;5;124m\"\u001b[39m\u001b[38;5;124mtitle\u001b[39m\u001b[38;5;124m\"\u001b[39m,\n\u001b[1;32m    316\u001b[0m     \u001b[38;5;124m\"\u001b[39m\u001b[38;5;124mtotalFat [g]\u001b[39m\u001b[38;5;124m\"\u001b[39m,\n\u001b[0;32m   (...)\u001b[0m\n\u001b[1;32m    320\u001b[0m     \u001b[38;5;124m\"\u001b[39m\u001b[38;5;124mtitle_normalized\u001b[39m\u001b[38;5;124m\"\u001b[39m,\n\u001b[1;32m    321\u001b[0m ]\n\u001b[0;32m--> 322\u001b[0m list_hummus_recipe \u001b[38;5;241m=\u001b[39m \u001b[43mread_specified_columns\u001b[49m\u001b[43m(\u001b[49m\n\u001b[1;32m    323\u001b[0m \u001b[43m    \u001b[49m\u001b[43mhummus_file_path\u001b[49m\u001b[43m,\u001b[49m\u001b[43m \u001b[49m\u001b[43mhummus_column\u001b[49m\u001b[43m,\u001b[49m\u001b[43m \u001b[49m\u001b[43mdelimiter\u001b[49m\u001b[38;5;241;43m=\u001b[39;49m\u001b[38;5;124;43m\"\u001b[39;49m\u001b[38;5;124;43m,\u001b[39;49m\u001b[38;5;124;43m\"\u001b[39;49m\n\u001b[1;32m    324\u001b[0m \u001b[43m\u001b[49m\u001b[43m)\u001b[49m\n\u001b[1;32m    325\u001b[0m \u001b[38;5;66;03m# print(list_hummus_recipe[0])\u001b[39;00m\n\u001b[1;32m    326\u001b[0m \n\u001b[1;32m    327\u001b[0m \u001b[38;5;66;03m# Normalize the columns by dividing them by serving size\u001b[39;00m\n\u001b[1;32m    328\u001b[0m list_hummus_recipe \u001b[38;5;241m=\u001b[39m normalize_columns(list_hummus_recipe)\n",
      "File \u001b[0;32m~/kgeats/entity_linking_file/entity_linking.py:158\u001b[0m, in \u001b[0;36mread_specified_columns\u001b[0;34m(file_path, elenco_colonne, delimiter, encoding, max_cell_length)\u001b[0m\n\u001b[1;32m    146\u001b[0m \u001b[38;5;250m\u001b[39m\u001b[38;5;124;03m\"\"\"\u001b[39;00m\n\u001b[1;32m    147\u001b[0m \u001b[38;5;124;03mFunction to read specified columns from a CSV file, ignoring rows with overly long cell values.\u001b[39;00m\n\u001b[1;32m    148\u001b[0m \n\u001b[0;32m   (...)\u001b[0m\n\u001b[1;32m    154\u001b[0m \u001b[38;5;124;03m:return: a list of tuples, each containing the values from the specified columns\u001b[39;00m\n\u001b[1;32m    155\u001b[0m \u001b[38;5;124;03m\"\"\"\u001b[39;00m\n\u001b[1;32m    156\u001b[0m csv\u001b[38;5;241m.\u001b[39mfield_size_limit(\u001b[38;5;241m1_000_000_000\u001b[39m)\n\u001b[0;32m--> 158\u001b[0m \u001b[38;5;28;01mwith\u001b[39;00m \u001b[38;5;28;43mopen\u001b[39;49m\u001b[43m(\u001b[49m\u001b[43mfile_path\u001b[49m\u001b[43m,\u001b[49m\u001b[43m \u001b[49m\u001b[38;5;124;43m\"\u001b[39;49m\u001b[38;5;124;43mr\u001b[39;49m\u001b[38;5;124;43m\"\u001b[39;49m\u001b[43m,\u001b[49m\u001b[43m \u001b[49m\u001b[43mnewline\u001b[49m\u001b[38;5;241;43m=\u001b[39;49m\u001b[38;5;124;43m\"\u001b[39;49m\u001b[38;5;124;43m\"\u001b[39;49m\u001b[43m,\u001b[49m\u001b[43m \u001b[49m\u001b[43mencoding\u001b[49m\u001b[38;5;241;43m=\u001b[39;49m\u001b[43mencoding\u001b[49m\u001b[43m)\u001b[49m \u001b[38;5;28;01mas\u001b[39;00m csvfile:\n\u001b[1;32m    159\u001b[0m     \u001b[38;5;66;03m# Use DictReader to access column values by name\u001b[39;00m\n\u001b[1;32m    160\u001b[0m     reader \u001b[38;5;241m=\u001b[39m csv\u001b[38;5;241m.\u001b[39mDictReader(csvfile, delimiter\u001b[38;5;241m=\u001b[39mdelimiter)\n\u001b[1;32m    162\u001b[0m     \u001b[38;5;66;03m# Check if the specified columns exist in the file\u001b[39;00m\n",
      "\u001b[0;31mFileNotFoundError\u001b[0m: [Errno 2] No such file or directory: './csv_file/pp_recipes_normalized_by_pipeline.csv'"
     ]
    }
   ],
   "source": [
    "from main import create_completed_ontology\n",
    "create_completed_ontology(merge=False, threshold_value=0.1)"
   ]
  },
  {
   "cell_type": "code",
   "execution_count": 1,
   "metadata": {},
   "outputs": [],
   "source": [
    "from main import ontology_statistics\n",
    "\n",
    "ontology_list = [\"./kgeats/csv_file/ontology_hummus.ttl\", \"./kgeats/csv_file/ontology_off.ttl\", \"./kgeats/csv_file/unica_food_ontology.ttl\"]\n",
    "output_file = \"csv_file/ontology_statistics.csv\"\n",
    "ontology_statistics(ontology_list, output_file)"
   ]
  },
  {
   "cell_type": "code",
   "execution_count": null,
   "metadata": {},
   "outputs": [],
   "source": [
    "#visualizzazione distribuzione attributi Off\n",
    "\n"
   ]
  }
 ],
 "metadata": {
  "kernelspec": {
   "display_name": "ambientez",
   "language": "python",
   "name": "python3"
  },
  "language_info": {
   "codemirror_mode": {
    "name": "ipython",
    "version": 3
   },
   "file_extension": ".py",
   "mimetype": "text/x-python",
   "name": "python",
   "nbconvert_exporter": "python",
   "pygments_lexer": "ipython3",
   "version": "3.13.0"
  }
 },
 "nbformat": 4,
 "nbformat_minor": 2
}
