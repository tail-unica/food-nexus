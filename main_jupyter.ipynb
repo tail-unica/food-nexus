{
 "cells": [
  {
   "cell_type": "markdown",
   "metadata": {},
   "source": [
    "# Merge the ontologies in a single file"
   ]
  },
  {
   "cell_type": "code",
   "execution_count": null,
   "metadata": {},
   "outputs": [],
   "source": [
    "from main import create_completed_ontology\n",
    "\n",
    "#put merge=True if you want to merge the ontologies\n",
    "#you can also set a threshold value to merge the ontologies\n",
    "#you can also set a model to use for the merging\n",
    "create_completed_ontology(merge=False, threshold_value=0.1, model=\"paraphrase.MiniLM-L3-v2\")"
   ]
  }
 ],
 "metadata": {
  "kernelspec": {
   "display_name": "ambientez",
   "language": "python",
   "name": "python3"
  },
  "language_info": {
   "codemirror_mode": {
    "name": "ipython",
    "version": 3
   },
   "file_extension": ".py",
   "mimetype": "text/x-python",
   "name": "python",
   "nbconvert_exporter": "python",
   "pygments_lexer": "ipython3",
   "version": "3.13.0"
  }
 },
 "nbformat": 4,
 "nbformat_minor": 2
}
