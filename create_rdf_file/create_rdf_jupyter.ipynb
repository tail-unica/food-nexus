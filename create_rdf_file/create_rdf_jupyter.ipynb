{
 "cells": [
  {
   "cell_type": "markdown",
   "metadata": {},
   "source": [
    "# Create the namespace"
   ]
  },
  {
   "cell_type": "code",
   "execution_count": 3,
   "metadata": {},
   "outputs": [
    {
     "name": "stdout",
     "output_type": "stream",
     "text": [
      "namespace created successfully\n"
     ]
    }
   ],
   "source": [
    "from create_rdf import create_namespace\n",
    "\n",
    "create_namespace(namespace_completo=False)"
   ]
  },
  {
   "cell_type": "markdown",
   "metadata": {},
   "source": [
    "# Convert hummus in rdf"
   ]
  },
  {
   "cell_type": "code",
   "execution_count": 1,
   "metadata": {},
   "outputs": [
    {
     "name": "stderr",
     "output_type": "stream",
     "text": [
      "/home/gzedda/kgeats/create_rdf_file/create_rdf.py:318: DtypeWarning: Columns (35,36) have mixed types. Specify dtype option on import or set low_memory=False.\n",
      "  df_ricette = pd.read_csv(file_ricette, on_bad_lines=\"skip\")\n",
      "/home/gzedda/kgeats/create_rdf_file/create_rdf.py:319: DtypeWarning: Columns (4,8,9) have mixed types. Specify dtype option on import or set low_memory=False.\n",
      "  df_review = pd.read_csv(file_review, on_bad_lines=\"skip\")\n"
     ]
    },
    {
     "name": "stdout",
     "output_type": "stream",
     "text": [
      "Generated file: ../csv_file/ontology_hummus_not_infered.ttl\n"
     ]
    }
   ],
   "source": [
    "from create_rdf import convert_hummus_in_rdf\n",
    "\n",
    "convert_hummus_in_rdf()"
   ]
  },
  {
   "cell_type": "markdown",
   "metadata": {},
   "source": [
    "# Convert off in rdf"
   ]
  },
  {
   "cell_type": "code",
   "execution_count": 3,
   "metadata": {},
   "outputs": [
    {
     "name": "stdout",
     "output_type": "stream",
     "text": [
      "Generated file: ../csv_file/ontology_off.ttl\n"
     ]
    }
   ],
   "source": [
    "from create_rdf import convert_off_in_rdf\n",
    "\n",
    "convert_off_in_rdf()"
   ]
  }
 ],
 "metadata": {
  "kernelspec": {
   "display_name": "ambientez",
   "language": "python",
   "name": "python3"
  },
  "language_info": {
   "codemirror_mode": {
    "name": "ipython",
    "version": 3
   },
   "file_extension": ".py",
   "mimetype": "text/x-python",
   "name": "python",
   "nbconvert_exporter": "python",
   "pygments_lexer": "ipython3",
   "version": "3.13.0"
  }
 },
 "nbformat": 4,
 "nbformat_minor": 2
}
