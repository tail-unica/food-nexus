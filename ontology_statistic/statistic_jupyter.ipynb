{
 "cells": [
  {
   "cell_type": "markdown",
   "metadata": {},
   "source": [
    "# Calcolate the statistic for our ontology and confront it with the other"
   ]
  },
  {
   "cell_type": "markdown",
   "metadata": {},
   "source": [
    "Statistics include the number of triples, the number of entities, the number of relations, the number of entity and relation types, and for each entity and relation type the number of their instances."
   ]
  },
  {
   "cell_type": "code",
   "execution_count": 1,
   "metadata": {},
   "outputs": [],
   "source": [
    "from statistic import ontology_statistics\n",
    "\n",
    "ontology_list = [\"../csv_file/ontology_hummus.ttl\", \"../csv_file/ontology_off.ttl\", \"../csv_file/unica_food_ontology.ttl\"]\n",
    "output_file = \"../csv_file/ontology_statistics.csv\"\n",
    "ontology_statistics(ontology_list, output_file)"
   ]
  }
 ],
 "metadata": {
  "kernelspec": {
   "display_name": "ambientez",
   "language": "python",
   "name": "python3"
  },
  "language_info": {
   "codemirror_mode": {
    "name": "ipython",
    "version": 3
   },
   "file_extension": ".py",
   "mimetype": "text/x-python",
   "name": "python",
   "nbconvert_exporter": "python",
   "pygments_lexer": "ipython3",
   "version": "3.13.0"
  }
 },
 "nbformat": 4,
 "nbformat_minor": 2
}
