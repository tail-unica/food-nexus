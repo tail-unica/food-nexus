{
 "cells": [
  {
   "cell_type": "markdown",
   "metadata": {},
   "source": [
    "# Pipeline"
   ]
  },
  {
   "cell_type": "markdown",
   "metadata": {},
   "source": [
    "# PIPELINE"
   ]
  },
  {
   "cell_type": "markdown",
   "metadata": {},
   "source": [
    "create normalization of Foodkg ingredients"
   ]
  },
  {
   "cell_type": "code",
   "execution_count": null,
   "metadata": {},
   "outputs": [],
   "source": [
    "from main import pipeline #type: ignore\n",
    "\n",
    "file_input = \"csv_file/ingredients_food_kg.csv\"\n",
    "file_output = \"csv_file/FoodKg_normalizzed_by_pipeline.csv\"\n",
    "column_to_normalize = \"ingredient\"\n",
    "pipeline(\n",
    "    input_file=file_input, output_file=file_output, show_something=True, show_all=True, column_name=column_to_normalize\n",
    ")"
   ]
  },
  {
   "cell_type": "markdown",
   "metadata": {},
   "source": [
    "create normalization of hummus recipe"
   ]
  },
  {
   "cell_type": "code",
   "execution_count": null,
   "metadata": {},
   "outputs": [],
   "source": [
    "from main import pipeline #type: ignore\n",
    "\n",
    "input_file = \"csv_file/pp_recipes_rows.csv\"\n",
    "output_file = \"csv_file/pp_recipes_normalized_by_pipeline.csv\"\n",
    "column_to_normalize = \"title\"\n",
    "pipeline(\n",
    "    input_file=input_file, output_file=output_file, show_something=True, show_all=True, column_name=column_to_normalize\n",
    ")"
   ]
  },
  {
   "cell_type": "markdown",
   "metadata": {},
   "source": [
    "create normalization of off products"
   ]
  },
  {
   "cell_type": "code",
   "execution_count": null,
   "metadata": {},
   "outputs": [],
   "source": [
    "from main import pipeline #type: ignore\n",
    "\n",
    "input_file = \"csv_file/off_rows.csv\"\n",
    "output_file = \"csv_file/off_rows_normalized_by_pipeline.csv\"\n",
    "column_to_normalize = \"product_name\"\n",
    "pipeline(\n",
    "    input_file=input_file, output_file=output_file, show_something=True, show_all=False, column_name=column_to_normalize, delimiter=\"\\t\"\n",
    ")"
   ]
  },
  {
   "cell_type": "markdown",
   "metadata": {},
   "source": [
    "create normalizzation for the entity link test file \n"
   ]
  },
  {
   "cell_type": "code",
   "execution_count": null,
   "metadata": {},
   "outputs": [],
   "source": [
    "from main import pipeline #type: ignore\n",
    "\n",
    "input_file = 'csv_file/entity_linking_test.csv'  \n",
    "output_file = 'csv_file/entity_linking_test_normalized_temp.csv' \n",
    "column_to_normalize = 'off'\n",
    "pipeline(input_file=input_file, output_file=output_file, show_something=True, show_all=False, column_name=column_to_normalize, delimiter=',')\n",
    "\n",
    "input_file = 'csv_file/entity_linking_test_normalized_temp.csv'  \n",
    "output_file = 'csv_file/entity_linking_test_normalized.csv' \n",
    "column_to_normalize = 'foodkg'\n",
    "pipeline(input_file=input_file, output_file=output_file, show_something=True, show_all=False, column_name=column_to_normalize, delimiter=',')"
   ]
  }
 ],
 "metadata": {
  "kernelspec": {
   "display_name": "kambinete",
   "language": "python",
   "name": "python3"
  },
  "language_info": {
   "codemirror_mode": {
    "name": "ipython",
    "version": 3
   },
   "file_extension": ".py",
   "mimetype": "text/x-python",
   "name": "python",
   "nbconvert_exporter": "python",
   "pygments_lexer": "ipython3",
   "version": "3.10.13"
  }
 },
 "nbformat": 4,
 "nbformat_minor": 2
}
