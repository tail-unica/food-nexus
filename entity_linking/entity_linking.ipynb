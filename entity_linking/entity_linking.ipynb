{
 "cells": [
  {
   "cell_type": "markdown",
   "metadata": {},
   "source": [
    "# SIMILARITA CON BERT "
   ]
  },
  {
   "cell_type": "code",
   "execution_count": null,
   "metadata": {},
   "outputs": [],
   "source": [
    "from entity_linking_script import find_most_similar_pairs, read_first_column\n",
    "\n",
    "file1_path = \"../csv_file/off_ricette_normalizzato_da_pipeline.csv\"\n",
    "file2_path = \"../csv_file/off_normalizzato_a_mano.csv\"\n",
    "\n",
    "list1 = read_first_column(file_path=file1_path)\n",
    "list2 = read_first_column(file2_path)\n",
    "\n",
    "most_similar_pairs = find_most_similar_pairs(list1, list2)\n",
    "\n",
    "print(\"Most similar couples:\\n\")\n",
    "for item1, item2, score in most_similar_pairs:\n",
    "    print(f\"({item1}) --- ({item2}) --- Similarity: {score:.3f}\")"
   ]
  },
  {
   "cell_type": "markdown",
   "metadata": {},
   "source": [
    "# Approccio ispirato all'università di Bari"
   ]
  },
  {
   "cell_type": "code",
   "execution_count": null,
   "metadata": {},
   "outputs": [],
   "source": [
    "from entity_linking_script import (\n",
    "    RecipeTransformer,\n",
    "    compute_embeddings,\n",
    "    find_similar_by_title,\n",
    "    read_first_column,\n",
    ")\n",
    "from tqdm import tqdm\n",
    "\n",
    "file1_path = \"../csv_file/off_ricette_normalizzato_da_pipeline.csv\"\n",
    "file2_path = \"../csv_file/off_normalizzato_a_mano.csv\"\n",
    "\n",
    "list1 = read_first_column(file1_path)\n",
    "list2 = read_first_column(file2_path)\n",
    "\n",
    "# Initialize the transformer\n",
    "transformer_name = \"davanstrien/autotrain-recipes-2451975973\"\n",
    "transformer = RecipeTransformer(transformer_name)\n",
    "\n",
    "# Compute embeddings for all recipes in list2 (to reduce execution time)\n",
    "print(\"Calculating embeddings for list2...\")\n",
    "embeddings2 = compute_embeddings(list2, transformer)\n",
    "\n",
    "# Create a list of tuples (index, title) for list2\n",
    "entities_list2 = list(enumerate(iterable=list2))\n",
    "\n",
    "# Find the most similar recipe for each item in list1\n",
    "most_similar_pairs = []\n",
    "print(\"Searching for the most similar recipes...\")\n",
    "for recipe_title in tqdm(list1, desc=\"Similarity search\"):\n",
    "    similar_recipe, similarity_score = find_similar_by_title(\n",
    "        recipe_title, entities_list2, embeddings2, transformer\n",
    "    )\n",
    "    most_similar_pairs.append((recipe_title, similar_recipe[1], similarity_score))\n",
    "\n",
    "# Output the results\n",
    "print(\"Most similar recipe pairs found:\\n\")\n",
    "for item1, item2, score in most_similar_pairs:\n",
    "    print(f\"({item1}) --------- ({item2}) --------- Similarity: {score:.3f}\")"
   ]
  },
  {
   "cell_type": "markdown",
   "metadata": {},
   "source": [
    "# APPROCCIO IBRIDO SFRUTTANDO INDICATOR"
   ]
  },
  {
   "cell_type": "markdown",
   "metadata": {},
   "source": [
    "### Estraggo titolo, calorie, grassi, carboidrati e proteine delle ricette di hummus e OFF"
   ]
  },
  {
   "cell_type": "code",
   "execution_count": 4,
   "metadata": {},
   "outputs": [
    {
     "name": "stdout",
     "output_type": "stream",
     "text": [
      "Coppie più simili trovate:\n",
      "\n",
      "(aaa)(Cranberry-Orange Caramel Corn) --------- (aaa)( moutarde au moût de raisin ) --------- Similarità: 1.040\n",
      "(aaa)(Cocktail De Camarones) --------- (aaa)(Sauce Sweety chili 0%) --------- Similarità: 1.037\n",
      "(aaa)(Inbal Jerusalem Hotel Snowball) --------- (aaa)(Sauce Sweety chili 0%) --------- Similarità: 1.039\n",
      "(aaa)(Santorini Roasted Leg of Lamb) --------- (aaa)(Sauce Sweety chili 0%) --------- Similarità: 1.032\n",
      "(aaa)(Cantonese Chicken Burgers) --------- (aaa)( moutarde au moût de raisin ) --------- Similarità: 1.040\n"
     ]
    }
   ],
   "source": [
    "from entity_linking_script import (\n",
    "    find_k_most_similar_pairs_with_indicators,\n",
    "    normalize_columns,\n",
    "    read_specified_columns,\n",
    ")\n",
    "\n",
    "file1_path = \"../csv_file/pp_recipes_rows.csv\"\n",
    "column1 = [\n",
    "    \"title\",\n",
    "    \"totalFat [g]\",\n",
    "    \"totalCarbohydrate [g]\",\n",
    "    \"protein [g]\",\n",
    "    \"servingSize [g]\",\n",
    "]\n",
    "list1 = read_specified_columns(file1_path, column1, delimiter=\",\")\n",
    "list1 = normalize_columns(list1)\n",
    "\n",
    "file2_path = \"../csv_file/off_rows.csv\"\n",
    "column2 = [\"product_name\", \"fat_100g\", \"carbohydrates_100g\", \"proteins_100g\"]\n",
    "list2 = read_specified_columns(file2_path, column2, delimiter=\"\\t\")\n",
    "\n",
    "\n",
    "for lst1 in (list1, list2):  # Cambiamo il nome della variabile da `list` a `lst`\n",
    "    for i, item in enumerate(lst1):\n",
    "        # Converti la tupla in una lista\n",
    "        temp_item = list(\n",
    "            item\n",
    "        )  # Usa la funzione incorporata list() per creare una lista\n",
    "\n",
    "        # Modifica l'elemento: aggiungi \"aaa\" all'inizio e sposta il primo elemento originale alla fine\n",
    "        temp_item.insert(0, \"aaa\")  # Aggiunge normalized_name all'inizio\n",
    "        temp_item.append(temp_item.pop(1))  # Sposta l'attuale primo elemento alla fine\n",
    "\n",
    "        # Aggiorna l'elemento nella lista principale (riconvertendolo in tupla, se necessario)\n",
    "        lst1[i] = tuple(temp_item)\n",
    "\n",
    "\n",
    "most_similar_pairs = find_k_most_similar_pairs_with_indicators(list1, list2, k=1)\n",
    "\n",
    "print(\"Coppie più simili trovate:\\n\")\n",
    "for item1, item2, score, original_name1, original_name2 in most_similar_pairs:\n",
    "    print(\n",
    "        f\"({item1})({original_name1}) --------- ({item2})({original_name2}) --------- Similarità: {score:.3f}\"\n",
    "    )"
   ]
  },
  {
   "cell_type": "markdown",
   "metadata": {},
   "source": [
    "### Test of various methods"
   ]
  },
  {
   "cell_type": "code",
   "execution_count": null,
   "metadata": {},
   "outputs": [],
   "source": [
    "from entity_linking_script import (\n",
    "    find_k_most_similar_pairs_with_indicators,\n",
    "    find_most_similar_pairs,\n",
    ")\n",
    "\n",
    "list1 = [(\"Pasta\", 30, 5, 10), (\"Pane\", 50, 1, 10)]\n",
    "list2 = [(\"Riso\", 40, 2, 8), (\"Pizza\", 20, 10, 12)]\n",
    "result = find_k_most_similar_pairs_with_indicators(list1, list2)\n",
    "print(result)\n",
    "\n",
    "list1 = [(\"Pasta\", 100, 0, 0), (\"Pane\", 0, 0, 0)]\n",
    "list2 = [(\"Riso\", 0, 2, 8), (\"Pizza\", 0, 50, 50)]\n",
    "result = find_k_most_similar_pairs_with_indicators(list1, list2)\n",
    "print(result)\n",
    "\n",
    "list1 = [(\"Pasta\", 33, 33, 33), (\"Pane\", 0, 0, 0)]\n",
    "list2 = [(\"Riso\", 0, 2, 8), (\"Pizza\", 33, 33, 33)]\n",
    "result = find_k_most_similar_pairs_with_indicators(list1, list2)\n",
    "print(result)\n",
    "\n",
    "list1 = [\"pasta\", \"pane\"]\n",
    "list2 = [\"riso\", \"pizza\"]\n",
    "result = find_most_similar_pairs(list1, list2)\n",
    "print(result)"
   ]
  }
 ],
 "metadata": {
  "kernelspec": {
   "display_name": "kambinete",
   "language": "python",
   "name": "python3"
  },
  "language_info": {
   "codemirror_mode": {
    "name": "ipython",
    "version": 3
   },
   "file_extension": ".py",
   "mimetype": "text/x-python",
   "name": "python",
   "nbconvert_exporter": "python",
   "pygments_lexer": "ipython3",
   "version": "3.10.13"
  }
 },
 "nbformat": 4,
 "nbformat_minor": 2
}
