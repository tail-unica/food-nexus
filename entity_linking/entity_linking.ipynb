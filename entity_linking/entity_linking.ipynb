{
 "cells": [
  {
   "cell_type": "markdown",
   "metadata": {},
   "source": [
    "# SIMILARITA CON BERT "
   ]
  },
  {
   "cell_type": "code",
   "execution_count": null,
   "metadata": {},
   "outputs": [
    {
     "name": "stdout",
     "output_type": "stream",
     "text": [
      "97\n",
      "97\n",
      "Coppie più simili trovate:\n",
      "\n",
      "(tuna) --------- (tuna) --------- Similarità: 1.000\n",
      "(grape mustard) --------- (grape mustard) --------- Similarità: 1.000\n",
      "(chilli sauce) --------- (chilli sauce) --------- Similarità: 1.000\n",
      "(garlic pesto) --------- (garlic pesto) --------- Similarità: 1.000\n",
      "(corn bread) --------- (corn bread) --------- Similarità: 1.000\n",
      "(carrot salad) --------- (carrot salad) --------- Similarità: 1.000\n",
      "(blueberry cheese) --------- (blueberry cheese) --------- Similarità: 1.000\n",
      "(baguette ) --------- (baguette ) --------- Similarità: 1.000\n",
      "(baguette) --------- (baguette ) --------- Similarità: 1.000\n",
      "(cereal chicken ) --------- (cereal chicken ) --------- Similarità: 1.000\n",
      "(coco tart) --------- (coco tart) --------- Similarità: 1.000\n",
      "(cheese peach) --------- (cheese peach) --------- Similarità: 1.000\n",
      "(chocolate cream dessert ) --------- (chocolate cream dessert ) --------- Similarità: 1.000\n",
      "(compote pear) --------- (compote pear) --------- Similarità: 1.000\n",
      "(chicken paella) --------- (chicken paella) --------- Similarità: 1.000\n",
      "(chicken Strips) --------- (chicken Strips) --------- Similarità: 1.000\n",
      "(chef salad shaken) --------- (chef salad shaken) --------- Similarità: 1.000\n",
      "(legumes macedoine salad) --------- (legumes macedoine salad) --------- Similarità: 1.000\n",
      "(baguette) --------- (baguette ) --------- Similarità: 1.000\n",
      "(tuna) --------- (tuna) --------- Similarità: 1.000\n",
      "(bread) --------- (bread) --------- Similarità: 1.000\n",
      "(bread) --------- (bread) --------- Similarità: 1.000\n",
      "(salad tomato) --------- (salad tomato) --------- Similarità: 1.000\n",
      "(chocolate mousse sweetness) --------- (chocolate mousse sweetness) --------- Similarità: 1.000\n",
      "(Coca) --------- (Coca) --------- Similarità: 1.000\n",
      "(skewers Turkey) --------- (skewers Turkey) --------- Similarità: 1.000\n",
      "(salmon) --------- (salmon) --------- Similarità: 1.000\n",
      "(bbc cabbage sausage sv) --------- (bbc cabbage sausage sv) --------- Similarità: 1.000\n",
      "(crepe kamok) --------- (crepe kamok) --------- Similarità: 1.000\n",
      "(salad shaker tabbouleh) --------- (salad shaker tabbouleh) --------- Similarità: 1.000\n",
      "(banana chip sweetened ) --------- (banana chip sweetened ) --------- Similarità: 1.000\n",
      "(peanut) --------- (peanut) --------- Similarità: 1.000\n",
      "(cheese sandwich) --------- (cheese sandwich) --------- Similarità: 1.000\n",
      "(ham sandwich) --------- (ham sandwich) --------- Similarità: 1.000\n",
      "(cheese chestnut creme) --------- (cheese chestnut creme) --------- Similarità: 1.000\n",
      "(bio inulin) --------- (bio inulin) --------- Similarità: 1.000\n",
      "(salad) --------- (salad) --------- Similarità: 1.000\n",
      "(chicken curry straight thigh) --------- (chicken curry straight thigh) --------- Similarità: 1.000\n",
      "(bagel) --------- (bagel) --------- Similarità: 1.000\n",
      "(cereal sandwich) --------- (cereal sandwich) --------- Similarità: 1.000\n",
      "(brioche chicken) --------- (brioche chicken) --------- Similarità: 1.000\n",
      "(beguette) --------- (beguette) --------- Similarità: 1.000\n",
      "(beguette) --------- (beguette) --------- Similarità: 1.000\n",
      "(fillet salmon) --------- (fillet salmon) --------- Similarità: 1.000\n",
      "(salmon tartare) --------- (salmon tartare) --------- Similarità: 1.000\n",
      "(beef corned) --------- (beef corned) --------- Similarità: 1.000\n",
      "(pasta salad) --------- (pasta salad) --------- Similarità: 1.000\n",
      "(bread) --------- (bread) --------- Similarità: 1.000\n",
      "(carbonara pasta) --------- (carbonara pasta) --------- Similarità: 1.000\n",
      "(chocolate tart) --------- (chocolate tart) --------- Similarità: 1.000\n",
      "(salad) --------- (salad) --------- Similarità: 1.000\n",
      "(cereal cheese) --------- (cereal cheese) --------- Similarità: 1.000\n",
      "(chicken fig heart) --------- (chicken fig heart) --------- Similarità: 1.000\n",
      "(nut salted) --------- (nut salted) --------- Similarità: 1.000\n",
      "(polenta) --------- (polenta) --------- Similarità: 1.000\n",
      "(breadshop gone granola honey) --------- (breadshop gone granola honey) --------- Similarità: 1.000\n",
      "(muesli) --------- (muesli) --------- Similarità: 1.000\n",
      "(chocolate) --------- (chocolate) --------- Similarità: 1.000\n",
      "(oil sunflower) --------- (oil sunflower) --------- Similarità: 1.000\n",
      "(adzuki  beans) --------- (adzuki  beans) --------- Similarità: 1.000\n",
      "(pasta penne) --------- (pasta penne) --------- Similarità: 1.000\n",
      "(flax seed) --------- (flax seed) --------- Similarità: 1.000\n",
      "(punk spicy) --------- (punk spicy) --------- Similarità: 1.000\n",
      "(cinnamon granola nut) --------- (cinnamon granola nut) --------- Similarità: 1.000\n",
      "(hazelnut ) --------- (hazelnut ) --------- Similarità: 1.000\n",
      "(banana chip sweetened ) --------- (banana chip sweetened ) --------- Similarità: 1.000\n",
      "(rice) --------- (rice) --------- Similarità: 1.000\n",
      "(groat oat) --------- (groat oat) --------- Similarità: 1.000\n",
      "(berry chocolate) --------- (berry chocolate) --------- Similarità: 1.000\n",
      "(butter chew peanut power) --------- (butter chew peanut power) --------- Similarità: 1.000\n",
      "(salt) --------- (salt) --------- Similarità: 1.000\n",
      "(berry cocconut granola) --------- (berry cocconut granola) --------- Similarità: 1.000\n",
      "(cashew pepper salted) --------- (cashew pepper salted) --------- Similarità: 1.000\n",
      "(cashew curry) --------- (cashew curry) --------- Similarità: 1.000\n",
      "(almond tamari wasabi) --------- (almond tamari wasabi) --------- Similarità: 1.000\n",
      "(coconut) --------- (coconut) --------- Similarità: 1.000\n",
      "(quinoa) --------- (quinoa) --------- Similarità: 1.000\n",
      "(chew chocolate coconut) --------- (chew chocolate coconut) --------- Similarità: 1.000\n",
      "(trail) --------- (trail) --------- Similarità: 1.000\n",
      "(granola) --------- (granola) --------- Similarità: 1.000\n",
      "(almond blueberry granola) --------- (almond blueberry granola) --------- Similarità: 1.000\n",
      "(sugar) --------- (sugar) --------- Similarità: 1.000\n",
      "(granola) --------- (granola) --------- Similarità: 1.000\n",
      "(chips cocconut) --------- (chips cocconut) --------- Similarità: 1.000\n",
      "(beans) --------- (beans) --------- Similarità: 1.000\n",
      "(berry hard wheat) --------- (berry hard wheat) --------- Similarità: 1.000\n",
      "(granola) --------- (granola) --------- Similarità: 1.000\n",
      "(almond chocolate salt ) --------- (almond chocolate salt ) --------- Similarità: 1.000\n",
      "(granola) --------- (granola) --------- Similarità: 1.000\n",
      "(chia seeds) --------- (chia seeds) --------- Similarità: 1.000\n",
      "(naturablue) --------- (naturablue) --------- Similarità: 1.000\n",
      "(delicies) --------- (delicies) --------- Similarità: 1.000\n",
      "(lentils) --------- (lentils) --------- Similarità: 1.000\n",
      "(beans) --------- (beans) --------- Similarità: 1.000\n",
      "(peas) --------- (peas) --------- Similarità: 1.000\n",
      "(beans) --------- (beans) --------- Similarità: 1.000\n",
      "(beans) --------- (beans) --------- Similarità: 1.000\n"
     ]
    }
   ],
   "source": [
    "from entity_linking_script import read_first_column, find_most_similar_pairs\n",
    "\n",
    "file1_path = '../csv_file/off_ricette_normalizzato_da_pipeline.csv'\n",
    "file2_path = '../csv_file/off_normalizzato_a_mano.csv'\n",
    "\n",
    "list1 = read_first_column(file_path=file1_path)\n",
    "list2 = read_first_column(file2_path)\n",
    "\n",
    "print(len(list1))\n",
    "print(len(list2))\n",
    "\n",
    "most_similar_pairs = find_most_similar_pairs(list1, list2)\n",
    "\n",
    "print(\"Coppie più simili trovate:\\n\")\n",
    "for item1, item2, score in most_similar_pairs:\n",
    "    print(f\"({item1}) --------- ({item2}) --------- Similarità: {score:.3f}\")"
   ]
  },
  {
   "cell_type": "markdown",
   "metadata": {},
   "source": [
    "# Approccio ispirato all'università di Bari"
   ]
  },
  {
   "cell_type": "code",
   "execution_count": 7,
   "metadata": {},
   "outputs": [
    {
     "name": "stdout",
     "output_type": "stream",
     "text": [
      "Calcolo degli embedding per list2...\n"
     ]
    },
    {
     "name": "stderr",
     "output_type": "stream",
     "text": [
      "Processing Titles embeddings: 100%|██████████| 97/97 [00:00<00:00, 139.78batch/s]\n",
      "Calcolo embedding: 100%|██████████| 1/1 [00:00<00:00,  1.44it/s]\n"
     ]
    },
    {
     "name": "stdout",
     "output_type": "stream",
     "text": [
      "Ricerca delle ricette più simili...\n"
     ]
    },
    {
     "name": "stderr",
     "output_type": "stream",
     "text": [
      "Ricerca similarità: 0it [00:00, ?it/s]"
     ]
    },
    {
     "name": "stdout",
     "output_type": "stream",
     "text": [
      "Coppie di ricette più simili trovate:\n",
      "\n"
     ]
    },
    {
     "name": "stderr",
     "output_type": "stream",
     "text": [
      "\n"
     ]
    }
   ],
   "source": [
    "from entity_linking_script import read_first_column, RecipeTransformer, compute_embeddings, find_similar_by_title\n",
    "from tqdm import tqdm\n",
    "\n",
    "file1_path = '../csv_file/off_ricette_normalizzato_da_pipeline.csv'\n",
    "file2_path = '../csv_file/off_normalizzato_a_mano.csv'\n",
    "\n",
    "list1 = read_first_column(file1_path)\n",
    "list2 = read_first_column(file2_path)\n",
    "\n",
    "# Inizializza il transformer\n",
    "transformer_name = 'davanstrien/autotrain-recipes-2451975973'\n",
    "transformer = RecipeTransformer(transformer_name)\n",
    "\n",
    "# Calcola gli embedding per tutte le ricette in list2 (per far impiegare di meno tempo l'esecuzione)\n",
    "print(\"Calcolo degli embedding per list2...\")\n",
    "embeddings2 = compute_embeddings(list2, transformer)\n",
    "\n",
    "# Crea una lista di tuple (indice, titolo) per list2\n",
    "entities_list2 = list(enumerate(iterable=list2))\n",
    "\n",
    "# Trova la ricetta più simile per ogni elemento di list1\n",
    "most_similar_pairs = []\n",
    "print(\"Ricerca delle ricette più simili...\")\n",
    "for recipe_title in tqdm(list1, desc=\"Ricerca similarità\"):\n",
    "    similar_recipe, similarity_score = find_similar_by_title(recipe_title, entities_list2, embeddings2, transformer)\n",
    "    most_similar_pairs.append((recipe_title, similar_recipe[1], similarity_score))\n",
    "\n",
    "# Output dei risultati\n",
    "print(\"Coppie di ricette più simili trovate:\\n\")\n",
    "for item1, item2, score in most_similar_pairs:\n",
    "    print(f\"({item1}) --------- ({item2}) --------- Similarità: {score:.3f}\")"
   ]
  },
  {
   "cell_type": "markdown",
   "metadata": {},
   "source": [
    "# APPROCCIO IBRIDO SFRUTTANDO INDICATOR"
   ]
  },
  {
   "cell_type": "markdown",
   "metadata": {},
   "source": [
    "### Estraggo titolo, calorie, grassi, carboidrati e proteine delle ricette di hummus e OFF"
   ]
  },
  {
   "cell_type": "code",
   "execution_count": null,
   "metadata": {},
   "outputs": [
    {
     "name": "stdout",
     "output_type": "stream",
     "text": [
      "['Column1', 'recipe_id', 'title', 'description', 'author_id', 'duration', 'directions', 'ingredients', 'serves', 'last_changed_date', 'food_kg_locator', 'recipe_url', 'tags', 'new_recipe_id', 'new_author_id', 'average_rating', 'number_of_ratings', 'servingsPerRecipe', 'servingSize [g]', 'calories [cal]', 'caloriesFromFat [cal]', 'totalFat [g]', 'saturatedFat [g]', 'cholesterol [mg]', 'sodium [mg]', 'totalCarbohydrate [g]', 'dietaryFiber [g]', 'sugars [g]', 'protein [g]', 'direction_size', 'ingredients_sizes', 'who_score', 'fsa_score', 'nutri_score', 'normalization_comment', 'ingredient_food_kg_urls', 'ingredient_food_kg_names']\n",
      "['code', 'url', 'creator', 'created_t', 'created_datetime', 'last_modified_t', 'last_modified_datetime', 'last_modified_by', 'last_updated_t', 'last_updated_datetime', 'product_name', 'abbreviated_product_name', 'generic_name', 'quantity', 'packaging', 'packaging_tags', 'packaging_en', 'packaging_text', 'brands', 'brands_tags', 'categories', 'categories_tags', 'categories_en', 'origins', 'origins_tags', 'origins_en', 'manufacturing_places', 'manufacturing_places_tags', 'labels', 'labels_tags', 'labels_en', 'emb_codes', 'emb_codes_tags', 'first_packaging_code_geo', 'cities', 'cities_tags', 'purchase_places', 'stores', 'countries', 'countries_tags', 'countries_en', 'ingredients_text', 'ingredients_tags', 'ingredients_analysis_tags', 'allergens', 'allergens_en', 'traces', 'traces_tags', 'traces_en', 'serving_size', 'serving_quantity', 'no_nutrition_data', 'additives_n', 'additives', 'additives_tags', 'additives_en', 'nutriscore_score', 'nutriscore_grade', 'nova_group', 'pnns_groups_1', 'pnns_groups_2', 'food_groups', 'food_groups_tags', 'food_groups_en', 'states', 'states_tags', 'states_en', 'brand_owner', 'ecoscore_score', 'ecoscore_grade', 'nutrient_levels_tags', 'product_quantity', 'owner', 'data_quality_errors_tags', 'unique_scans_n', 'popularity_tags', 'completeness', 'last_image_t', 'last_image_datetime', 'main_category', 'main_category_en', 'image_url', 'image_small_url', 'image_ingredients_url', 'image_ingredients_small_url', 'image_nutrition_url', 'image_nutrition_small_url', 'energy-kj_100g', 'energy-kcal_100g', 'energy_100g', 'energy-from-fat_100g', 'fat_100g', 'saturated-fat_100g', 'butyric-acid_100g', 'caproic-acid_100g', 'caprylic-acid_100g', 'capric-acid_100g', 'lauric-acid_100g', 'myristic-acid_100g', 'palmitic-acid_100g', 'stearic-acid_100g', 'arachidic-acid_100g', 'behenic-acid_100g', 'lignoceric-acid_100g', 'cerotic-acid_100g', 'montanic-acid_100g', 'melissic-acid_100g', 'unsaturated-fat_100g', 'monounsaturated-fat_100g', 'omega-9-fat_100g', 'polyunsaturated-fat_100g', 'omega-3-fat_100g', 'omega-6-fat_100g', 'alpha-linolenic-acid_100g', 'eicosapentaenoic-acid_100g', 'docosahexaenoic-acid_100g', 'linoleic-acid_100g', 'arachidonic-acid_100g', 'gamma-linolenic-acid_100g', 'dihomo-gamma-linolenic-acid_100g', 'oleic-acid_100g', 'elaidic-acid_100g', 'gondoic-acid_100g', 'mead-acid_100g', 'erucic-acid_100g', 'nervonic-acid_100g', 'trans-fat_100g', 'cholesterol_100g', 'carbohydrates_100g', 'sugars_100g', 'added-sugars_100g', 'sucrose_100g', 'glucose_100g', 'fructose_100g', 'lactose_100g', 'maltose_100g', 'maltodextrins_100g', 'starch_100g', 'polyols_100g', 'erythritol_100g', 'fiber_100g', 'soluble-fiber_100g', 'insoluble-fiber_100g', 'proteins_100g', 'casein_100g', 'serum-proteins_100g', 'nucleotides_100g', 'salt_100g', 'added-salt_100g', 'sodium_100g', 'alcohol_100g', 'vitamin-a_100g', 'beta-carotene_100g', 'vitamin-d_100g', 'vitamin-e_100g', 'vitamin-k_100g', 'vitamin-c_100g', 'vitamin-b1_100g', 'vitamin-b2_100g', 'vitamin-pp_100g', 'vitamin-b6_100g', 'vitamin-b9_100g', 'folates_100g', 'vitamin-b12_100g', 'biotin_100g', 'pantothenic-acid_100g', 'silica_100g', 'bicarbonate_100g', 'potassium_100g', 'chloride_100g', 'calcium_100g', 'phosphorus_100g', 'iron_100g', 'magnesium_100g', 'zinc_100g', 'copper_100g', 'manganese_100g', 'fluoride_100g', 'selenium_100g', 'chromium_100g', 'molybdenum_100g', 'iodine_100g', 'caffeine_100g', 'taurine_100g', 'ph_100g', 'fruits-vegetables-nuts_100g', 'fruits-vegetables-nuts-dried_100g', 'fruits-vegetables-nuts-estimate_100g', 'fruits-vegetables-nuts-estimate-from-ingredients_100g', 'collagen-meat-protein-ratio_100g', 'cocoa_100g', 'chlorophyl_100g', 'carbon-footprint_100g', 'carbon-footprint-from-meat-or-fish_100g', 'nutrition-score-fr_100g', 'nutrition-score-uk_100g', 'glycemic-index_100g', 'water-hardness_100g', 'choline_100g', 'phylloquinone_100g', 'beta-glucan_100g', 'inositol_100g', 'carnitine_100g', 'sulphate_100g', 'nitrate_100g', 'acidity_100g']\n",
      "[['Cranberry-Orange Caramel Corn', 324.0, 21.333333333333332, 33.0, 2.6666666666666665], ['Cocktail De Camarones', 141.02310231023102, 5.808580858085809, 5.874587458745874, 16.93069306930693], ['Inbal Jerusalem Hotel Snowball', 167.74703557312253, 8.932806324110672, 11.238471673254281, 11.55467720685112], ['Santorini Roasted Leg of Lamb', 231.83266932270917, 14.780876494023904, 3.0278884462151394, 20.358565737051794], ['Cantonese Chicken Burgers', 183.38842975206612, 7.68595041322314, 16.363636363636363, 12.520661157024794], ['Crab Salad With Asparagus, Avocado, and Lime Vinaigrette', 101.65966386554622, 7.563025210084033, 5.2100840336134455, 4.600840336134453], ['Greek Fasolatha (Navy Bean Soup)', 191.73708920187792, 10.046948356807512, 20.140845070422536, 6.619718309859155], ['Indian Spiced Popcorn', 350.0, 4.444444444444445, 70.0, 12.222222222222221], ['Cajun Chicken Salad', 235.51282051282053, 14.871794871794872, 5.0, 19.615384615384617], ['No Knead French Bread', 4803.561643835616, 105.75342465753425, 832.054794520548, 119.45205479452055], ['Red Onion Focaccia', 302.5, 10.714285714285714, 41.69642857142857, 9.464285714285714], ['Sausage and Spinach Penne Casserole', 311.53846153846155, 11.367521367521368, 38.945868945868945, 14.9002849002849], ['Minnesota Wild Rice Salad', 269.3867924528302, 11.933962264150944, 29.57547169811321, 12.452830188679245], ['Avocado Salsa Recipe', 117.66917293233082, 10.75187969924812, 6.090225563909774, 1.2781954887218046], ['Ground Beef Supreme Casserole', 210.1293103448276, 12.327586206896552, 14.39655172413793, 10.172413793103448], ['Lemon Chicken Vegetable Stir-Fry', 117.26530612244898, 3.4693877551020407, 8.36734693877551, 13.183673469387756], ['Peanut Butter Fudge Cookies', 422.56410256410254, 21.41025641025641, 55.76923076923077, 7.17948717948718], ['Orange Sesame Beef Stir-Fry', 127.33695652173913, 4.619565217391305, 6.630434782608695, 14.347826086956522], ['Chicken Noodle Bake', 108.49162011173185, 1.229050279329609, 8.88268156424581, 15.810055865921788], ['Chicken Noodle Bake', 138.0161943319838, 4.939271255060729, 12.267206477732794, 10.809716599190283], ['Chicken Noodle Bake', 176.62576687116564, 6.380368098159509, 22.177914110429448, 8.036809815950921], ['Raspberry and Whisky Cheesecake', 309.7560975609756, 23.78048780487805, 17.398373983739837, 2.967479674796748], ['Chicken and Herb Tea Finger Sandwiches', 11.208651399491094, 0.6234096692111959, 1.1195928753180662, 0.3053435114503817], ['Crab Imperial from Ocean City, Md', 99.38650306748467, 2.6993865030674846, 3.9263803680981595, 14.171779141104295], ['Crispy Toasted Burrito', 75.31322505800465, 2.9466357308584685, 6.5429234338747095, 6.496519721577727], ['Cajun Chicken Salad', 84.73214285714286, 1.9642857142857142, 4.255952380952381, 12.738095238095237], ['Slow Cooker Cranberry Sauce', 199.32773109243698, 0.08403361344537816, 51.76470588235294, 0.33613445378151263], [\"Kittencal's Holiday Brunch Sausage Casserole\", 221.25581395348837, 16.6046511627907, 6.558139534883721, 11.069767441860465], ['Indiana Mexican Lasagna', 352.36842105263156, 15.175438596491228, 34.56140350877193, 17.894736842105264], ['Cheese & Garlic Braid', 96.7938237965486, 2.6884650317892826, 15.03178928247048, 2.9336966394187103], ['Tex-Mex Beef And Beans For A Potluck Dinner', 161.05113636363637, 9.119318181818182, 11.022727272727273, 9.232954545454545], ['The President’s Pumpkin Bre', 361.3636363636364, 18.363636363636363, 46.45454545454545, 4.090909090909091], ['Zucchini Lemon Bread', 439.52054794520546, 20.30821917808219, 60.582191780821915, 5.308219178082192], ['Chocolate Myoplex Pancakes', 319.1666666666667, 10.833333333333334, 46.666666666666664, 8.75], ['Gorgonzola Cheese and Pear Tart', 269.0070921985816, 19.078014184397162, 21.347517730496453, 4.539007092198582], ['Rye Bread and Dill Dip', 226.15642458100558, 12.189944134078212, 24.93854748603352, 5.184357541899441], ['Duck in Hot and Sour Sauce', 227.21556886227546, 16.047904191616766, 2.215568862275449, 17.994011976047904], ['Beef Savory', 95.51162790697674, 3.86046511627907, 2.2790697674418605, 12.30232558139535], ['My Own Cube Steak and Gravy', 175.6140350877193, 8.421052631578947, 7.228070175438597, 16.842105263157894], [\"Clay Aiken's Favorite - Pineapple Salad\", 283.0232558139535, 14.418604651162791, 35.2906976744186, 5.290697674418604], ['Radish Cucumber Salad on Watercress With Oranges', 47.674418604651166, 2.0155038759689923, 6.511627906976744, 1.627906976744186], ['Lemon Easy Cookies', 382.1212121212121, 10.606060606060606, 67.57575757575758, 4.545454545454546], ['Spinach and Bean Curd Soup (Gun)', 52.79232111692845, 1.8673647469458987, 4.712041884816754, 4.554973821989528], ['Almond Pistachio Saffron Curry Sauce Recipe', 168.86363636363637, 16.641414141414142, 3.8636363636363638, 2.462121212121212], ['Sailor Jacks', 348.5135135135135, 16.756756756756758, 47.972972972972975, 2.972972972972973], ['Barbecued Roast Beef', 343.0670926517572, 24.313099041533548, 13.801916932907348, 18.083067092651756], ['Basic Fish Tacos', 75.52346570397111, 3.2490974729241877, 3.7545126353790614, 8.808664259927799], ['White Chocolate Cream Pie', 288.5074626865672, 18.432835820895523, 28.208955223880597, 4.17910447761194], ['Scrumptious Sausage Calzones', 178.5427135678392, 8.844221105527637, 15.92964824120603, 8.467336683417086], ['White Chocolate Cream Pie', 296.7195767195767, 16.50793650793651, 35.3968253968254, 2.5396825396825395], ['Easy and Quick, Turkey Cassoulet', 94.74025974025975, 4.025974025974026, 9.134199134199134, 5.627705627705628], ['Potato Honey Buns', 34.88513513513514, 0.8716216216216216, 5.054054054054054, 2.418918918918919], ['Spinach Cheese Manicotti (Meatless)', 146.41666666666666, 10.194444444444445, 7.0, 7.222222222222222], ['Toffee Almond Shortbread Bites', 547.0, 34.0, 54.0, 7.0], ['Double-Cheese Sandwiches', 344.6666666666667, 19.5, 26.083333333333332, 16.041666666666668], ['Grilled Italian Pesto Panini', 166.38709677419354, 9.03225806451613, 5.32258064516129, 15.64516129032258], ['Quinoa Fritters', 137.44292237442923, 4.931506849315069, 16.75799086757991, 6.301369863013699], ['Beef and Veggie Stir Fry', 406.37168141592923, 35.84070796460177, 14.336283185840708, 6.548672566371682], ['Zucchini Twice-Baked Potatoes', 103.4920634920635, 5.925925925925926, 10.529100529100528, 2.804232804232804], ['Victorian Eggnog', 303.3333333333333, 22.976190476190474, 13.928571428571429, 3.3333333333333335], ['Great Pumpkin Dessert', 25.052083333333332, 1.3645833333333333, 2.9635416666666665, 0.3854166666666667], ['Eggplant-Cannelloni', 49.96275605214153, 2.5139664804469275, 5.772811918063315, 2.1042830540037243], ['Butter Pecan Mousse', 388.99328859060404, 35.43624161073826, 14.966442953020135, 5.23489932885906], ['Red Lentil and Chorizo Soup', 147.38947368421051, 7.515789473684211, 11.073684210526316, 9.010526315789473], ['Vegetarian Sweet Potato Pie', 111.30434782608695, 0.9316770186335404, 22.981366459627328, 3.2919254658385095], [\"Ray's Garlic Chili\", 151.19705340699815, 8.655616942909761, 7.05340699815838, 11.215469613259668], ['Yummy Citrus Cheesecake', 330.0, 26.237623762376238, 19.702970297029704, 5.346534653465347], ['Mennonite Leek Soup', 23.96039603960396, 0.15841584158415842, 5.247524752475248, 0.6534653465346535], ['Baked Sausage-Stuffed Jumbo Pasta Shells', 186.0738255033557, 14.328859060402685, 4.6644295302013425, 9.664429530201343], ['Golden Chicken I', 118.10126582278481, 6.139240506329114, 4.30379746835443, 11.645569620253164], ['Coconut Pudhina Thohaiyal', 61.29032258064516, 0.8064516129032258, 12.903225806451612, 3.3870967741935485], ['Fall off the Bone Sweet & Sour Ribs', 650.6190476190476, 50.142857142857146, 22.095238095238095, 26.285714285714285], ['Our Secret Sirloin Steak', 320.46692607003894, 21.71206225680934, 2.801556420233463, 27.042801556420233], ['Apple Cider Dippers', 42.730627306273064, 0.922509225092251, 8.597785977859779, 0.5166051660516605], ['Deep Fried Fish Bites', 4.585427135678392, 0.1507537688442211, 0.314070351758794, 0.4648241206030151], ['Flaky Apple Foldovers', 317.1186440677966, 14.915254237288135, 43.728813559322035, 3.389830508474576], ['Vinegar Pie (Custard Style)', 183.6231884057971, 6.521739130434782, 28.47826086956522, 2.608695652173913], ['Sourdough Brown Bread', 290.1322482197355, 5.055951169888098, 53.906408952187185, 7.039674465920651], ['Grilled Blue Cheese Butter Burgers', 237.3228346456693, 18.031496062992126, 0.0, 17.95275590551181], ['Nanaimo Party-Size Cheesecake', 402.03821656050957, 31.910828025477706, 26.369426751592357, 6.178343949044586], ['Beef Roast and Onion Gravy', 149.53125, 4.921875, 4.765625, 20.7421875], ['Godiva Martini', 229.28571428571428, 0.0, 0.0, 0.0], ['Garlic Chicken Stri Fry With Quinoa', 202.4901185770751, 6.521739130434782, 27.31225296442688, 9.051383399209486], ['White Chocolate Cranberry Loaf (Light)', 280.3636363636364, 8.909090909090908, 46.18181818181818, 4.363636363636363], ['Turtle Doves Martini', 256.16161616161617, 13.333333333333334, 1.3131313131313131, 0.9090909090909091], ['Rice Krispie Cakes My Way', 741.0869565217391, 44.130434782608695, 96.52173913043478, 10.217391304347826], ['Mediterranean  Fig Kebabs on Mixed Greens', 101.82089552238806, 2.985074626865672, 12.029850746268657, 1.791044776119403], ['Shamrock Irish Onion Soup', 140.85790884718497, 8.310991957104557, 10.563002680965148, 3.351206434316354], ['Super Easy Mustard Vinaigrette', 168.06451612903226, 0.6451612903225806, 38.064516129032256, 1.935483870967742], ['mango lime salad', 24.270910436713546, 0.05921539600296077, 5.847520355292376, 0.11843079200592153], ['Western Wagon Wheels', 108.78205128205128, 2.8632478632478633, 13.846153846153847, 7.094017094017094], ['Crock Pot Enchilada Pie', 206.37305699481865, 6.476683937823834, 23.523316062176164, 14.715025906735752], ['Chipotle Corn Soup', 68.37150127226464, 2.7735368956743, 10.254452926208652, 2.340966921119593], ['Super Easy and Yummy Chicken Enchiladas', 205.26548672566372, 12.168141592920353, 11.460176991150442, 12.256637168141593], ['Houseboat Potato Salad', 205.04310344827587, 12.71551724137931, 18.448275862068964, 5.043103448275862], ['Pumpkin Cookies for Doggies', 347.2916666666667, 5.416666666666667, 65.83333333333333, 8.541666666666666], ['Baked Apples Filled With Sausage', 130.52459016393442, 7.901639344262295, 11.967213114754099, 3.7049180327868854], ['Addictive Cheesy Corn Dip', 100.95238095238095, 1.746031746031746, 19.523809523809526, 4.285714285714286], ['Pineapple Pecan Muffins', 310.10695187165777, 12.88770053475936, 46.36363636363637, 3.7433155080213902], ['German Black Forest Cake', 290.25252525252523, 12.575757575757576, 42.37373737373738, 3.1818181818181817]]\n",
      "[('Tonno Rio Mare', '406', '6.6', '6.7', '80'), (' moutarde au moût de raisin ', '', '8.2', '29', '5.1'), ('Sauce Sweety chili 0%', '21', '0', '4.8', '0.2'), (\"Pistou d'ail des ours\", '', '', '', ''), ('Pain maïs', '', '', '', ''), ('Salade de carottes râpées', '32', '0.3', '5.3', '0.9'), ('Fromage blanc aux myrtilles', '129', '4.9', '16.3', '4.4'), ('', '', '', '', ''), ('Baguette parisien', '222', '3.3', '38.4', '11.7'), ('&quot;Baguette Lyonnais&quot;', '290', '9.4', '41', '12.5'), ('Solène céréales poulet', '219', '5.9', '30.3', '9.7'), ('Tarte noix de coco', '381', '22', '27.3', '4.6'), ('Fromage blanc pêche', '98', '3.3', '7.6', '4.6'), ('Crème dessert chocolat', '0', '0', '0', '0'), ('Compote de poire', '157', '0', '36', '0.6'), ('Paëlla de poulet', '153', '9.1', '9.2', '8.3'), ('Aiguillettes de poulet', '', '', '', ''), ('Salade shaker chef', '72', '2.2', '5.2', '7'), ('Salade de macedoine de légumes', '143', '12.7', '3.9', '1.9'), ('Baguette Poitevin', '207', '6.7', '27.5', '8.9'), ('Suedois thon', '162', '3.7', '20.7', '9.1'), ('Ciabatta Bombay', '174', '2.3', '29.3', '8.9'), ('Ciabatta Roma', '216', '4.5', '31.5', '12.5'), ('Salade tomate', '18', '0.2', '2.2', '0.9'), ('Mousse chocolat douceur', '169', '5.6', '22.7', '5.8'), ('Coca des flandres', '100', '2', '10', '2'), ('Brochettes dinde', '130', '7.2', '1', '17'), ('Suedois saumon', '172', '4.4', '23.3', '8.4'), ('Saucisse au chou fumé BBC SV (Morteau)', '964', '25', '1', '20'), ('Crêpes au Kamok', '298', '5.7', '58', '3.4'), ('Salade shaker taboulé', '114', '8.1', '5.7', '3.9'), ('Banana Chips Sweetened (Whole)', '536', '28.57', '64.29', '3.57'), ('Peanuts', '464', '17.86', '60.71', '17.86'), ('Sandwich classique fromage', '', '', '', ''), ('Sandiwch Tradition Complet Jambon', '', '', '', ''), ('Fromage blanc à la creme de marron', '150', '5.9', '18.6', '5.1'), ('Bio Inulin', '208', '0', '8', '0'), ('Salade verte', '16', '0.3', '1', '1.3'), ('cuisse de poulet direct au four curry', '197', '13', '3', '17'), ('Bagel', '197', '5', '28.7', '8.4'), ('Sandwich solene céréales sicilien', '213', '6.2', '30', '8.1'), ('Brioché poulet caesar', '191', '5.1', '24.4', '8.9'), ('BAguette bressan', '160', '2.2', '25.2', '9.5'), ('Baguette Niçois', '194', '5.6', '27.7', '9.6'), ('Pavé de saumon fumé à la ficelle', '253', '17', '0.5', '23'), ('Torti au saumon fumé', '214', '16', '12', '4.2'), ('CORNED BEEF', '235', '15', '1', '24'), ('', '', '', '', ''), ('Mediterranean Pasta Salad', '', '', '', ''), ('Pain fit n fiz', '290', '8.5', '37.3', '12.6'), ('Pasta box carbonara', '', '', '', ''), ('Tarte chocolat', '', '', '', ''), ('Salade fraicheur caesar', '', '', '', ''), ('Solène céréales deux fromages', '219', '7.1', '29.9', '8.7'), ('8 Buchettes poulet cœur aux figues', '', '', '', ''), ('Organic Salted Nut Mix', '607', '57.14', '17.86', '17.86'), ('Organic Polenta', '371', '1.43', '77.14', '8.57'), ('Breadshop Honey Gone Nuts Granola', '462', '18.27', '63.46', '13.46'), ('Organic Muesli', '438', '18.75', '57.81', '14.06'), ('Organic Dark Chocolate Minis', '575', '37.5', '55', '5'), ('Organic Sunflower Oil', '857', '100', '', ''), ('Organic Adzuki Beans', '333', '1.04', '62.5', '22.92'), ('Organic Penne Pasta', '368', '1.75', '73.68', '14.04'), ('Organic Golden Flax Seeds', '619', '42.86', '38.1', '19.05'), ('Organic Spicy Punks', '606', '48.48', '15.15', '30.3'), ('Cinnamon Nut Granola', '436', '18.18', '60', '14.55'), ('Organic Hazelnuts', '629', '60.71', '17.86', '14.29'), ('Organic Sweetened Banana Chips', '500', '26.67', '66.67', '3.33'), ('Lotus Organic Brown Jasmine Rice', '378', '2.22', '77.78', '8.89'), ('Organic Oat Groats', '262', '5.95', '66.67', '16.67'), ('Antioxidant Mix - Berries & Chocolate', '500', '33.33', '46.67', '13.33'), ('Peanut Butter Power Chews', '467', '20', '60', '8.89'), ('Real Salt Granular', '', '', '', ''), ('Organic Unswt Berry Coconut Granola', '370', '22.22', '57.41', '12.96'), ('Roasted Salted Black Pepper Cashews', '567', '46.67', '30', '16.67'), ('Thai Curry Roasted Cashews', '567', '43.33', '30', '16.67'), ('Wasabi Tamari Almonds', '533', '46.67', '23.33', '20'), ('Organic Medium Shredded Coconut', '533', '30', '53.33', '6.67'), ('Organic Red Quinoa', '356', '6.67', '64.44', '13.33'), ('Dark Chocolate Coconut Chews', '500', '35', '52.5', '5'), ('Seventh Heaven Organic Trail Mix', '500', '32.14', '46.43', '14.29'), ('Organic Unsweetened Granola, Cinnamon Almond', '451', '21.57', '58.82', '11.76'), ('Organic Blueberry Almond Granola', '400', '9.09', '70.91', '10.91'), ('Sweeteners, Demerara Turbinado Sugar', '375', '', '100', ''), (\"Aunt Maple's Crunchy Granola\", '500', '28.57', '55.36', '10.71'), ('Organic Coconut Chips', '660', '65', '24', '6'), ('Organic Black Beans', '333', '', '62.22', '22.22'), ('Organic Hard Red Wheat Berries', '319', '2.13', '68.09', '12.77'), (\"Aunt Ginger's Snappy Granola\", '464', '17.86', '64.29', '10.71'), ('Dark Chocolate Sea Salt & Turbinado Almonds', '525', '35', '50', '7.5'), ('Divinely Organic Granola', '418', '14.55', '65.45', '12.73'), ('Organic Black Chia Seeds', '489', '32.14', '42.86', '14.29'), ('Naturablue original', '0', '0', '0', '0'), ('Les délices de la Monne', '', '', '', ''), ('', '', '', '', ''), ('Organic French Green Lentils', '356', '', '64.44', '26.67'), ('Organic Garbanzo Beans', '319', '5.32', '53.19', '17.02'), ('Organic Green Split Peas', '378', '1.11', '68.89', '28.89'), ('Organic Small Red Chili Beans', '167', '', '63.89', '22.22'), ('Organic Small White Beans', '400', '', '66.67', '24.44')]\n"
     ]
    }
   ],
   "source": [
    "from entity_linking_script import read_specified_columns, normalize_columns, find_most_similar_pairs_with_indicators\n",
    "\n",
    "file1_path = '../csv_file/pp_recipes_righe.csv'\n",
    "colonne1 = [\"title\", \"totalFat [g]\", \"totalCarbohydrate [g]\", \"protein [g]\", \"servingSize [g]\"]\n",
    "lista1 = read_specified_columns(file1_path, colonne1, delimiter=';')\n",
    "\n",
    "lista1 = normalize_columns(lista1)\n",
    "\n",
    "file2_path = '../csv_file/off_righe.csv'\n",
    "colonne2 = [\"product_name\", \"fat_100g\", \"carbohydrates_100g\", \"proteins_100g\"]\n",
    "lista2 = read_specified_columns(file2_path, colonne2, delimiter='\\t')\n",
    "\n",
    "#print(lista1)\n",
    "#print(lista2)\n",
    "\n",
    "most_similar_pairs = find_most_similar_pairs_with_indicators(list1, list2)\n",
    "\n",
    "print(\"Coppie più simili trovate:\\n\")\n",
    "for item1, item2, score in most_similar_pairs:\n",
    "    print(f\"({item1}) --------- ({item2}) --------- Similarità: {score:.3f}\")"
   ]
  },
  {
   "cell_type": "code",
   "execution_count": null,
   "metadata": {},
   "outputs": [
    {
     "name": "stderr",
     "output_type": "stream",
     "text": [
      "c:\\Users\\gobba\\miniconda3\\envs\\kambinete\\lib\\site-packages\\sentence_transformers\\cross_encoder\\CrossEncoder.py:13: TqdmExperimentalWarning: Using `tqdm.autonotebook.tqdm` in notebook mode. Use `tqdm.tqdm` instead to force console mode (e.g. in jupyter console)\n",
      "  from tqdm.autonotebook import tqdm, trange\n"
     ]
    },
    {
     "name": "stdout",
     "output_type": "stream",
     "text": [
      "WARNING:tensorflow:From c:\\Users\\gobba\\miniconda3\\envs\\kambinete\\lib\\site-packages\\tf_keras\\src\\losses.py:2976: The name tf.losses.sparse_softmax_cross_entropy is deprecated. Please use tf.compat.v1.losses.sparse_softmax_cross_entropy instead.\n",
      "\n",
      "[('Pasta', 'Pizza', 0.35608773076070105), ('Pane', 'Pizza', 0.30325937271118164)]\n",
      "[('pasta', 'pizza', 0.3926902711391449), ('pane', 'pizza', 0.30325937271118164)]\n"
     ]
    }
   ],
   "source": [
    "from entity_linking_script import find_most_similar_pairs_with_indicators, find_most_similar_pairs\n",
    "\n",
    "list1 = [(\"Pasta\", 30, 5, 10),(\"Pane\", 50, 1, 10)]\n",
    "list2 = [(\"Riso\", 40, 2, 8),(\"Pizza\", 20, 10, 12)]\n",
    "result = find_most_similar_pairs_with_indicators(list1, list2)\n",
    "print(result)\n",
    "\n",
    "list1 = [(\"Pasta\", 100, 0, 0),(\"Pane\", 0, 0, 0)]\n",
    "list2 = [(\"Riso\", 0, 2, 8),(\"Pizza\", 0, 50, 50)]\n",
    "result = find_most_similar_pairs_with_indicators(list1, list2)\n",
    "print(result)\n",
    "\n",
    "list1 = [(\"Pasta\", 33, 33, 33),(\"Pane\", 0, 0, 0)]\n",
    "list2 = [(\"Riso\", 0, 2, 8),(\"Pizza\", 33, 33, 33)]\n",
    "result = find_most_similar_pairs_with_indicators(list1, list2)\n",
    "print(result)\n",
    "\n",
    "list1 = [\"pasta\", \"pane\"]\n",
    "list2 = [\"riso\", \"pizza\"]\n",
    "result = find_most_similar_pairs(list1, list2)\n",
    "print(result)"
   ]
  }
 ],
 "metadata": {
  "kernelspec": {
   "display_name": "kambinete",
   "language": "python",
   "name": "python3"
  },
  "language_info": {
   "codemirror_mode": {
    "name": "ipython",
    "version": 3
   },
   "file_extension": ".py",
   "mimetype": "text/x-python",
   "name": "python",
   "nbconvert_exporter": "python",
   "pygments_lexer": "ipython3",
   "version": "3.10.13"
  }
 },
 "nbformat": 4,
 "nbformat_minor": 2
}
