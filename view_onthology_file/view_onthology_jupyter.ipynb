{
 "cells": [
  {
   "cell_type": "code",
   "execution_count": null,
   "metadata": {},
   "outputs": [],
   "source": [
    "#import math\n",
    "#from ipysigma import Sigma\n",
    "#from view_onthology import load_graph_from_ttl\n",
    "#\n",
    "## Enable widgets in Jupyter Notebook\n",
    "#!jupyter nbextension enable --py widgetsnbextension --sys-prefix\n",
    "#%load_ext widgetsnbextension\n",
    "#\n",
    "## Load the graph from hummus.ttl with the filter enabled\n",
    "#file_path = \"../csv_file/ontology_hummus_infered.ttl\"\n",
    "#\n",
    "## By setting filter_edges=False, a complete graph with all attribute values is obtained\n",
    "#G = load_graph_from_ttl(file_path=file_path, filter_edges=True)\n",
    "#\n",
    "## Compute label size based on node degree\n",
    "#label_size = {x: max(6, 2 * math.log2(y + 1)) for x, y in G.degree()}  # type: ignore\n",
    "#\n",
    "## Extract edge information to pass attributes to Sigma\n",
    "#edge_colors_data = {(u, v): data[\"edge_color\"] for u, v, data in G.edges(data=True)}\n",
    "#\n",
    "## Configure the graph with ipysigma, passing edge attributes, and display it interactively\n",
    "## (Clicking on a node filters only the edges and nodes directly connected to it)\n",
    "#Sigma(\n",
    "#    G,\n",
    "#    node_label=\"label\",\n",
    "#    raw_node_label_size=label_size,\n",
    "#    edge_color=edge_colors_data,\n",
    "#    node_metrics=[\"louvain\"],\n",
    "#    node_color=\"louvain\",\n",
    "#    default_edge_type=\"curve\",\n",
    "#    node_border_color_from=\"node\",\n",
    "#    label_grid_cell_size=50,\n",
    "#    label_font=\"sans-serif\",\n",
    "#)"
   ]
  }
 ],
 "metadata": {
  "colab": {
   "collapsed_sections": [
    "N6cnEIIlXhCj",
    "YFxTwdqup_z5",
    "-VvPogUCwLUC",
    "JUCaM8NDYoMx",
    "I88orawwu4BS"
   ],
   "provenance": [
    {
     "file_id": "1P7nxQJmxy0Jsw8GBDDarUb-vrwPFX-F6",
     "timestamp": 1724521885203
    },
    {
     "file_id": "1S9yN9gwUUJmmhPau88lKFNtUYD0G2hnh",
     "timestamp": 1724422548058
    }
   ]
  },
  "kernelspec": {
   "display_name": "ambientez",
   "language": "python",
   "name": "python3"
  },
  "language_info": {
   "codemirror_mode": {
    "name": "ipython",
    "version": 3
   },
   "file_extension": ".py",
   "mimetype": "text/x-python",
   "name": "python",
   "nbconvert_exporter": "python",
   "pygments_lexer": "ipython3",
   "version": "3.13.0"
  }
 },
 "nbformat": 4,
 "nbformat_minor": 0
}
