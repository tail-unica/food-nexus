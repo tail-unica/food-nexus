{
 "cells": [
  {
   "cell_type": "code",
   "execution_count": 1,
   "id": "df23a4b3",
   "metadata": {},
   "outputs": [
    {
     "name": "stdout",
     "output_type": "stream",
     "text": [
      "File salvato in: ../csv_file/file_hummus_hummus_filtered_975.csv con 327475 righe.\n"
     ]
    }
   ],
   "source": [
    "import pandas as pd\n",
    "\n",
    "input_file = '../csv_file/file_hummus_hummus.csv'\n",
    "output_file = '../csv_file/file_hummus_hummus_filtered_975.csv'\n",
    "df = pd.read_csv(input_file)\n",
    "\n",
    "df['cosine_similarity'] = pd.to_numeric(df['cosine_similarity'], errors='coerce')\n",
    "filtered_df = df[df['cosine_similarity'] > 0.975]\n",
    "filtered_df.to_csv(output_file, index=False)\n",
    "print(f\"File salvato in: {output_file} con {len(filtered_df)} righe.\")"
   ]
  }
 ],
 "metadata": {
  "kernelspec": {
   "display_name": "ambientez",
   "language": "python",
   "name": "python3"
  },
  "language_info": {
   "codemirror_mode": {
    "name": "ipython",
    "version": 3
   },
   "file_extension": ".py",
   "mimetype": "text/x-python",
   "name": "python",
   "nbconvert_exporter": "python",
   "pygments_lexer": "ipython3",
   "version": "3.13.0"
  }
 },
 "nbformat": 4,
 "nbformat_minor": 5
}
