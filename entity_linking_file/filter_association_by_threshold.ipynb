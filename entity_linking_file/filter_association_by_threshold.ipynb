{
 "cells": [
  {
   "cell_type": "code",
   "execution_count": null,
   "id": "ff3a1bb7",
   "metadata": {},
   "outputs": [],
   "source": [
    "THRESHOLD = 0.975"
   ]
  },
  {
   "cell_type": "code",
   "execution_count": 2,
   "id": "df23a4b3",
   "metadata": {},
   "outputs": [
    {
     "name": "stdout",
     "output_type": "stream",
     "text": [
      "File saved in: ../csv_file/file_hummus_hummus_filtered_975.csv with 34330225 rows.\n"
     ]
    }
   ],
   "source": [
    "import pandas as pd\n",
    "\n",
    "input_file = '../csv_file/file_hummus_hummus.csv'\n",
    "output_file = '../csv_file/file_hummus_hummus_filtered_975.csv'\n",
    "df = pd.read_csv(input_file)\n",
    "\n",
    "df['cosine_similarity'] = pd.to_numeric(df['cosine_similarity'], errors='coerce')\n",
    "filtered_df = df[df['cosine_similarity'] > THRESHOLD]\n",
    "filtered_df.to_csv(output_file, index=False)\n",
    "print(f\"File saved in: {output_file} with {len(filtered_df)} rows.\")"
   ]
  },
  {
   "cell_type": "code",
   "execution_count": 3,
   "id": "1c306fdf",
   "metadata": {},
   "outputs": [
    {
     "name": "stdout",
     "output_type": "stream",
     "text": [
      "File saved in: ../csv_file/file_off_hummus_filtered_975.csv with 37796563 rows.\n"
     ]
    }
   ],
   "source": [
    "import pandas as pd\n",
    "\n",
    "input_file = '../csv_file/file_off_hummus.csv'\n",
    "output_file = '../csv_file/file_off_hummus_filtered_975.csv'\n",
    "df = pd.read_csv(input_file)\n",
    "\n",
    "df['cosine_similarity'] = pd.to_numeric(df['cosine_similarity'], errors='coerce')\n",
    "filtered_df = df[df['cosine_similarity'] > THRESHOLD]\n",
    "filtered_df.to_csv(output_file, index=False)\n",
    "print(f\"File saved in: {output_file} with {len(filtered_df)} rows.\")"
   ]
  },
  {
   "cell_type": "code",
   "execution_count": 4,
   "id": "70735bb9",
   "metadata": {},
   "outputs": [
    {
     "name": "stdout",
     "output_type": "stream",
     "text": [
      "File saved in: ../csv_file/file_off_foodkg_filtered_975.csv with 3072377 rows.\n"
     ]
    }
   ],
   "source": [
    "import pandas as pd\n",
    "\n",
    "input_file = '../csv_file/file_off_foodkg.csv'\n",
    "output_file = '../csv_file/file_off_foodkg_filtered_975.csv'\n",
    "df = pd.read_csv(input_file)\n",
    "\n",
    "df['cosine_similarity'] = pd.to_numeric(df['cosine_similarity'], errors='coerce')\n",
    "filtered_df = df[df['cosine_similarity'] > THRESHOLD]\n",
    "filtered_df.to_csv(output_file, index=False)\n",
    "print(f\"File saved in: {output_file} with {len(filtered_df)} rows.\")"
   ]
  }
 ],
 "metadata": {
  "kernelspec": {
   "display_name": "ambientez",
   "language": "python",
   "name": "python3"
  },
  "language_info": {
   "codemirror_mode": {
    "name": "ipython",
    "version": 3
   },
   "file_extension": ".py",
   "mimetype": "text/x-python",
   "name": "python",
   "nbconvert_exporter": "python",
   "pygments_lexer": "ipython3",
   "version": "3.13.0"
  }
 },
 "nbformat": 4,
 "nbformat_minor": 5
}
