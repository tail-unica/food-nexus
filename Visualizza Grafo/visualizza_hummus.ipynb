{
 "cells": [
  {
   "cell_type": "code",
   "execution_count": null,
   "metadata": {},
   "outputs": [
    {
     "name": "stderr",
     "output_type": "stream",
     "text": [
      "usage: jupyter [-h] [--version] [--config-dir] [--data-dir] [--runtime-dir]\n",
      "               [--paths] [--json] [--debug]\n",
      "               [subcommand]\n",
      "\n",
      "Jupyter: Interactive Computing\n",
      "\n",
      "positional arguments:\n",
      "  subcommand     the subcommand to launch\n",
      "\n",
      "options:\n",
      "  -h, --help     show this help message and exit\n",
      "  --version      show the versions of core jupyter packages and exit\n",
      "  --config-dir   show Jupyter config dir\n",
      "  --data-dir     show Jupyter data dir\n",
      "  --runtime-dir  show Jupyter runtime dir\n",
      "  --paths        show all Jupyter paths. Add --json for machine-readable\n",
      "                 format.\n",
      "  --json         output paths as machine-readable json\n",
      "  --debug        output debug information about paths\n",
      "\n",
      "Available subcommands: console dejavu events execute kernel kernelspec lab\n",
      "labextension labhub migrate nbconvert notebook qtconsole run script server\n",
      "troubleshoot trust\n",
      "\n",
      "Jupyter command `jupyter-nbextension` not found.\n"
     ]
    },
    {
     "name": "stdout",
     "output_type": "stream",
     "text": [
      "The widgetsnbextension module is not an IPython extension.\n"
     ]
    },
    {
     "data": {
      "application/vnd.jupyter.widget-view+json": {
       "model_id": "c801520cff034cc9adee531ddf0b0d89",
       "version_major": 2,
       "version_minor": 0
      },
      "text/plain": [
       "Sigma(nx.Graph with 3,423 nodes and 4,477 edges)"
      ]
     },
     "execution_count": 1,
     "metadata": {},
     "output_type": "execute_result"
    }
   ],
   "source": [
    "import math\n",
    "from ipysigma import Sigma \n",
    "from visualizza_hummus_script import load_graph_from_ttl\n",
    "\n",
    "# Abilita i widget in Jupyter Notebook\n",
    "!jupyter nbextension enable --py widgetsnbextension --sys-prefix\n",
    "%load_ext widgetsnbextension\n",
    "\n",
    "# Carica il grafo da hummus.ttl con il filtro impostato\n",
    "file_path = \"../File_CSV/ontologia_nostra_hummus.ttl\"\n",
    "\n",
    "#mettendo filter_edges=False, si ottiene un grafo completo con tutti i valori dei singoli attributi\n",
    "G = load_graph_from_ttl(file_path=file_path, filter_edges=True) \n",
    "\n",
    "# Calcola la dimensione delle etichette in base al grado del nodo\n",
    "label_size = {x: max(6, 2 * math.log2(y + 1)) for x, y in G.degree()} #type: ignore\n",
    "\n",
    "# Estrai le informazioni sugli archi per passare gli attributi a Sigma\n",
    "edge_colors_data = {(u, v): data['edge_color'] for u, v, data in G.edges(data=True)}\n",
    "\n",
    "# Configura il grafo con ipysigma, passando gli attributi degli archi e lo visualizza in maniera interattiva\n",
    "# (Cliccando su un nodo si filtrano solo gli archi e i nodi collegati direttamente a lui)\n",
    "Sigma(G,\n",
    "      node_label='label',\n",
    "      raw_node_label_size=label_size,\n",
    "      edge_color=edge_colors_data,\n",
    "      node_metrics=[\"louvain\"],\n",
    "      node_color=\"louvain\",\n",
    "      default_edge_type=\"curve\",\n",
    "      node_border_color_from=\"node\",\n",
    "      label_grid_cell_size=50,\n",
    "      label_font=\"sans-serif\")\n"
   ]
  },
  {
   "cell_type": "markdown",
   "metadata": {},
   "source": [
    "creazione png del grafo"
   ]
  },
  {
   "cell_type": "code",
   "execution_count": null,
   "metadata": {},
   "outputs": [],
   "source": []
  }
 ],
 "metadata": {
  "colab": {
   "collapsed_sections": [
    "N6cnEIIlXhCj",
    "YFxTwdqup_z5",
    "-VvPogUCwLUC",
    "JUCaM8NDYoMx",
    "I88orawwu4BS"
   ],
   "provenance": [
    {
     "file_id": "1P7nxQJmxy0Jsw8GBDDarUb-vrwPFX-F6",
     "timestamp": 1724521885203
    },
    {
     "file_id": "1S9yN9gwUUJmmhPau88lKFNtUYD0G2hnh",
     "timestamp": 1724422548058
    }
   ]
  },
  "kernelspec": {
   "display_name": "kambinete",
   "language": "python",
   "name": "python3"
  },
  "language_info": {
   "codemirror_mode": {
    "name": "ipython",
    "version": 3
   },
   "file_extension": ".py",
   "mimetype": "text/x-python",
   "name": "python",
   "nbconvert_exporter": "python",
   "pygments_lexer": "ipython3",
   "version": "3.10.13"
  }
 },
 "nbformat": 4,
 "nbformat_minor": 0
}
