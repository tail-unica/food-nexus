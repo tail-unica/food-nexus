{
 "cells": [
  {
   "cell_type": "markdown",
   "metadata": {},
   "source": [
    "# SCRITTURA ONTOLOGIA CON RDFLIB"
   ]
  },
  {
   "cell_type": "markdown",
   "metadata": {},
   "source": [
    "### Scrittura NameSpace personalizzato"
   ]
  },
  {
   "cell_type": "code",
   "execution_count": 1,
   "metadata": {},
   "outputs": [
    {
     "name": "stdout",
     "output_type": "stream",
     "text": [
      "namespace creato con successo\n"
     ]
    }
   ],
   "source": [
    "from csv_to_ontologia_script import crea_namespace\n",
    "\n",
    "crea_namespace()"
   ]
  },
  {
   "cell_type": "markdown",
   "metadata": {},
   "source": [
    "### Conversione hummus -> rdf"
   ]
  },
  {
   "cell_type": "code",
   "execution_count": 2,
   "metadata": {},
   "outputs": [
    {
     "name": "stdout",
     "output_type": "stream",
     "text": [
      "File generato con successo: ../File_CSV/ontologia_nostra_hummus.ttl\n"
     ]
    }
   ],
   "source": [
    "from csv_to_ontologia_script import converti_hummus_in_rdf\n",
    "\n",
    "converti_hummus_in_rdf()"
   ]
  },
  {
   "cell_type": "markdown",
   "metadata": {},
   "source": [
    "### Conversione off -> rdf"
   ]
  },
  {
   "cell_type": "code",
   "execution_count": 3,
   "metadata": {},
   "outputs": [
    {
     "name": "stdout",
     "output_type": "stream",
     "text": [
      "File generato con successo: ../File_CSV/ontologia_nostra_off.ttl\n"
     ]
    }
   ],
   "source": [
    "from csv_to_ontologia_script import converti_off_in_rdf\n",
    "\n",
    "converti_off_in_rdf()"
   ]
  }
 ],
 "metadata": {
  "kernelspec": {
   "display_name": "kambinete",
   "language": "python",
   "name": "python3"
  },
  "language_info": {
   "codemirror_mode": {
    "name": "ipython",
    "version": 3
   },
   "file_extension": ".py",
   "mimetype": "text/x-python",
   "name": "python",
   "nbconvert_exporter": "python",
   "pygments_lexer": "ipython3",
   "version": "3.10.13"
  }
 },
 "nbformat": 4,
 "nbformat_minor": 2
}
